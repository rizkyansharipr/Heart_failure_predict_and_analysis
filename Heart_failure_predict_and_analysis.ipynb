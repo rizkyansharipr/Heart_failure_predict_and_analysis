{
 "cells": [
  {
   "cell_type": "markdown",
   "metadata": {
    "id": "vFUD8Ew5AsZr"
   },
   "source": [
    "# Hi!\n",
    "\n",
    "I'm **Rizky Anshari**\n",
    "\n",
    "Notebook ini adalah bentuk evaluasi saya pada pembelajaran machine learning untuk supervised learning.\n",
    "\n",
    "### The Data\n",
    "'Google BigQuery'\n",
    "- **select * from `ftds-hacktiv8-project.phase1_ftds_001_hck.heart-failure`**\n",
    "\n",
    "### The Objective\n",
    "Membuat model Classification menggunakan Random Forest dan salah satu algoritma boosting untuk memprediksi apakah seorang pasien akan meninggal atau tidak."
   ]
  },
  {
   "cell_type": "markdown",
   "metadata": {},
   "source": [
    "![Image](https://miro.medium.com/max/4420/1*HDphOMQdTsRUM-O4hudIWA.png)"
   ]
  },
  {
   "cell_type": "markdown",
   "metadata": {
    "id": "KX_FUYlYCJed"
   },
   "source": [
    "# A. Library"
   ]
  },
  {
   "cell_type": "code",
   "execution_count": 189,
   "metadata": {
    "colab": {
     "base_uri": "https://localhost:8080/"
    },
    "id": "DmqaChs49xEI",
    "outputId": "203f44b8-2481-4866-9829-19e903e42623"
   },
   "outputs": [
    {
     "name": "stdout",
     "output_type": "stream",
     "text": [
      "Looking in indexes: https://pypi.org/simple, https://us-python.pkg.dev/colab-wheels/public/simple/\n",
      "Requirement already satisfied: feature_engine in /usr/local/lib/python3.7/dist-packages (1.4.0)\n",
      "Requirement already satisfied: numpy>=1.18.2 in /usr/local/lib/python3.7/dist-packages (from feature_engine) (1.21.6)\n",
      "Requirement already satisfied: scipy>=1.4.1 in /usr/local/lib/python3.7/dist-packages (from feature_engine) (1.7.3)\n",
      "Requirement already satisfied: scikit-learn>=1.0.0 in /usr/local/lib/python3.7/dist-packages (from feature_engine) (1.0.2)\n",
      "Requirement already satisfied: statsmodels>=0.11.1 in /usr/local/lib/python3.7/dist-packages (from feature_engine) (0.12.2)\n",
      "Requirement already satisfied: pandas>=1.0.3 in /usr/local/lib/python3.7/dist-packages (from feature_engine) (1.3.5)\n",
      "Requirement already satisfied: pytz>=2017.3 in /usr/local/lib/python3.7/dist-packages (from pandas>=1.0.3->feature_engine) (2022.2.1)\n",
      "Requirement already satisfied: python-dateutil>=2.7.3 in /usr/local/lib/python3.7/dist-packages (from pandas>=1.0.3->feature_engine) (2.8.2)\n",
      "Requirement already satisfied: six>=1.5 in /usr/local/lib/python3.7/dist-packages (from python-dateutil>=2.7.3->pandas>=1.0.3->feature_engine) (1.15.0)\n",
      "Requirement already satisfied: joblib>=0.11 in /usr/local/lib/python3.7/dist-packages (from scikit-learn>=1.0.0->feature_engine) (1.1.0)\n",
      "Requirement already satisfied: threadpoolctl>=2.0.0 in /usr/local/lib/python3.7/dist-packages (from scikit-learn>=1.0.0->feature_engine) (3.1.0)\n",
      "Requirement already satisfied: patsy>=0.5 in /usr/local/lib/python3.7/dist-packages (from statsmodels>=0.11.1->feature_engine) (0.5.2)\n"
     ]
    }
   ],
   "source": [
    "!pip install feature_engine"
   ]
  },
  {
   "cell_type": "code",
   "execution_count": 190,
   "metadata": {
    "colab": {
     "base_uri": "https://localhost:8080/"
    },
    "id": "O13DknHa083C",
    "outputId": "42d7f7a9-6962-4696-b59c-60f65643f319"
   },
   "outputs": [
    {
     "name": "stdout",
     "output_type": "stream",
     "text": [
      "Looking in indexes: https://pypi.org/simple, https://us-python.pkg.dev/colab-wheels/public/simple/\n",
      "Requirement already satisfied: phik in /usr/local/lib/python3.7/dist-packages (0.12.2)\n",
      "Requirement already satisfied: joblib>=0.14.1 in /usr/local/lib/python3.7/dist-packages (from phik) (1.1.0)\n",
      "Requirement already satisfied: pandas>=0.25.1 in /usr/local/lib/python3.7/dist-packages (from phik) (1.3.5)\n",
      "Requirement already satisfied: scipy>=1.5.2 in /usr/local/lib/python3.7/dist-packages (from phik) (1.7.3)\n",
      "Requirement already satisfied: numpy>=1.18.0 in /usr/local/lib/python3.7/dist-packages (from phik) (1.21.6)\n",
      "Requirement already satisfied: matplotlib>=2.2.3 in /usr/local/lib/python3.7/dist-packages (from phik) (3.2.2)\n",
      "Requirement already satisfied: python-dateutil>=2.1 in /usr/local/lib/python3.7/dist-packages (from matplotlib>=2.2.3->phik) (2.8.2)\n",
      "Requirement already satisfied: kiwisolver>=1.0.1 in /usr/local/lib/python3.7/dist-packages (from matplotlib>=2.2.3->phik) (1.4.4)\n",
      "Requirement already satisfied: pyparsing!=2.0.4,!=2.1.2,!=2.1.6,>=2.0.1 in /usr/local/lib/python3.7/dist-packages (from matplotlib>=2.2.3->phik) (3.0.9)\n",
      "Requirement already satisfied: cycler>=0.10 in /usr/local/lib/python3.7/dist-packages (from matplotlib>=2.2.3->phik) (0.11.0)\n",
      "Requirement already satisfied: typing-extensions in /usr/local/lib/python3.7/dist-packages (from kiwisolver>=1.0.1->matplotlib>=2.2.3->phik) (4.1.1)\n",
      "Requirement already satisfied: pytz>=2017.3 in /usr/local/lib/python3.7/dist-packages (from pandas>=0.25.1->phik) (2022.2.1)\n",
      "Requirement already satisfied: six>=1.5 in /usr/local/lib/python3.7/dist-packages (from python-dateutil>=2.1->matplotlib>=2.2.3->phik) (1.15.0)\n"
     ]
    }
   ],
   "source": [
    "!pip install phik"
   ]
  },
  {
   "cell_type": "code",
   "execution_count": 191,
   "metadata": {
    "id": "MKswxKGq_Mc5"
   },
   "outputs": [],
   "source": [
    "import pandas as pd\n",
    "import matplotlib.pyplot as plt\n",
    "import seaborn as sns\n",
    "import numpy as np\n",
    "\n",
    "import phik\n",
    "from feature_engine.outliers import Winsorizer\n",
    "from imblearn.over_sampling import SMOTE\n",
    "from sklearn.preprocessing import StandardScaler\n",
    "\n",
    "from sklearn.model_selection import train_test_split, StratifiedKFold, cross_val_score\n",
    "\n",
    "from sklearn.ensemble import RandomForestClassifier\n",
    "from xgboost import XGBClassifier\n",
    "\n",
    "from sklearn.metrics import classification_report, roc_auc_score, accuracy_score, ConfusionMatrixDisplay, confusion_matrix"
   ]
  },
  {
   "cell_type": "markdown",
   "metadata": {
    "id": "vCiXNqekCMub"
   },
   "source": [
    "# B. Data Loading\n",
    "*pada data loading akan dilakukan pemuatan data dan mengamatan sederhana*"
   ]
  },
  {
   "cell_type": "code",
   "execution_count": 192,
   "metadata": {
    "id": "gQsp3Bx0AZia"
   },
   "outputs": [],
   "source": [
    "# load dataset\n",
    "data = pd.read_csv('h8dsft_P1G3_rizky_anshari.csv')\n",
    "\n",
    "# mengganti option agar seluruh kolom dapat ditampilkan\n",
    "pd.set_option('display.max_columns', None)"
   ]
  },
  {
   "cell_type": "code",
   "execution_count": 193,
   "metadata": {
    "colab": {
     "base_uri": "https://localhost:8080/",
     "height": 270
    },
    "id": "Tp-UgccpAdaz",
    "outputId": "5541eea1-2db0-4625-d14c-75eb46bcd0f9"
   },
   "outputs": [
    {
     "data": {
      "text/html": [
       "\n",
       "  <div id=\"df-ded5d202-06db-4ac8-b080-af0ddf1c0fa9\">\n",
       "    <div class=\"colab-df-container\">\n",
       "      <div>\n",
       "<style scoped>\n",
       "    .dataframe tbody tr th:only-of-type {\n",
       "        vertical-align: middle;\n",
       "    }\n",
       "\n",
       "    .dataframe tbody tr th {\n",
       "        vertical-align: top;\n",
       "    }\n",
       "\n",
       "    .dataframe thead th {\n",
       "        text-align: right;\n",
       "    }\n",
       "</style>\n",
       "<table border=\"1\" class=\"dataframe\">\n",
       "  <thead>\n",
       "    <tr style=\"text-align: right;\">\n",
       "      <th></th>\n",
       "      <th>age</th>\n",
       "      <th>anaemia</th>\n",
       "      <th>creatinine_phosphokinase</th>\n",
       "      <th>diabetes</th>\n",
       "      <th>ejection_fraction</th>\n",
       "      <th>high_blood_pressure</th>\n",
       "      <th>platelets</th>\n",
       "      <th>serum_creatinine</th>\n",
       "      <th>serum_sodium</th>\n",
       "      <th>sex</th>\n",
       "      <th>smoking</th>\n",
       "      <th>time</th>\n",
       "      <th>DEATH_EVENT</th>\n",
       "    </tr>\n",
       "  </thead>\n",
       "  <tbody>\n",
       "    <tr>\n",
       "      <th>0</th>\n",
       "      <td>42.0</td>\n",
       "      <td>1</td>\n",
       "      <td>250</td>\n",
       "      <td>1</td>\n",
       "      <td>15</td>\n",
       "      <td>0</td>\n",
       "      <td>213000.0</td>\n",
       "      <td>1.3</td>\n",
       "      <td>136</td>\n",
       "      <td>0</td>\n",
       "      <td>0</td>\n",
       "      <td>65</td>\n",
       "      <td>1</td>\n",
       "    </tr>\n",
       "    <tr>\n",
       "      <th>1</th>\n",
       "      <td>46.0</td>\n",
       "      <td>0</td>\n",
       "      <td>168</td>\n",
       "      <td>1</td>\n",
       "      <td>17</td>\n",
       "      <td>1</td>\n",
       "      <td>271000.0</td>\n",
       "      <td>2.1</td>\n",
       "      <td>124</td>\n",
       "      <td>0</td>\n",
       "      <td>0</td>\n",
       "      <td>100</td>\n",
       "      <td>1</td>\n",
       "    </tr>\n",
       "    <tr>\n",
       "      <th>2</th>\n",
       "      <td>65.0</td>\n",
       "      <td>1</td>\n",
       "      <td>160</td>\n",
       "      <td>1</td>\n",
       "      <td>20</td>\n",
       "      <td>0</td>\n",
       "      <td>327000.0</td>\n",
       "      <td>2.7</td>\n",
       "      <td>116</td>\n",
       "      <td>0</td>\n",
       "      <td>0</td>\n",
       "      <td>8</td>\n",
       "      <td>1</td>\n",
       "    </tr>\n",
       "    <tr>\n",
       "      <th>3</th>\n",
       "      <td>53.0</td>\n",
       "      <td>1</td>\n",
       "      <td>91</td>\n",
       "      <td>0</td>\n",
       "      <td>20</td>\n",
       "      <td>1</td>\n",
       "      <td>418000.0</td>\n",
       "      <td>1.4</td>\n",
       "      <td>139</td>\n",
       "      <td>0</td>\n",
       "      <td>0</td>\n",
       "      <td>43</td>\n",
       "      <td>1</td>\n",
       "    </tr>\n",
       "    <tr>\n",
       "      <th>4</th>\n",
       "      <td>50.0</td>\n",
       "      <td>1</td>\n",
       "      <td>582</td>\n",
       "      <td>1</td>\n",
       "      <td>20</td>\n",
       "      <td>1</td>\n",
       "      <td>279000.0</td>\n",
       "      <td>1.0</td>\n",
       "      <td>134</td>\n",
       "      <td>0</td>\n",
       "      <td>0</td>\n",
       "      <td>186</td>\n",
       "      <td>0</td>\n",
       "    </tr>\n",
       "  </tbody>\n",
       "</table>\n",
       "</div>\n",
       "      <button class=\"colab-df-convert\" onclick=\"convertToInteractive('df-ded5d202-06db-4ac8-b080-af0ddf1c0fa9')\"\n",
       "              title=\"Convert this dataframe to an interactive table.\"\n",
       "              style=\"display:none;\">\n",
       "        \n",
       "  <svg xmlns=\"http://www.w3.org/2000/svg\" height=\"24px\"viewBox=\"0 0 24 24\"\n",
       "       width=\"24px\">\n",
       "    <path d=\"M0 0h24v24H0V0z\" fill=\"none\"/>\n",
       "    <path d=\"M18.56 5.44l.94 2.06.94-2.06 2.06-.94-2.06-.94-.94-2.06-.94 2.06-2.06.94zm-11 1L8.5 8.5l.94-2.06 2.06-.94-2.06-.94L8.5 2.5l-.94 2.06-2.06.94zm10 10l.94 2.06.94-2.06 2.06-.94-2.06-.94-.94-2.06-.94 2.06-2.06.94z\"/><path d=\"M17.41 7.96l-1.37-1.37c-.4-.4-.92-.59-1.43-.59-.52 0-1.04.2-1.43.59L10.3 9.45l-7.72 7.72c-.78.78-.78 2.05 0 2.83L4 21.41c.39.39.9.59 1.41.59.51 0 1.02-.2 1.41-.59l7.78-7.78 2.81-2.81c.8-.78.8-2.07 0-2.86zM5.41 20L4 18.59l7.72-7.72 1.47 1.35L5.41 20z\"/>\n",
       "  </svg>\n",
       "      </button>\n",
       "      \n",
       "  <style>\n",
       "    .colab-df-container {\n",
       "      display:flex;\n",
       "      flex-wrap:wrap;\n",
       "      gap: 12px;\n",
       "    }\n",
       "\n",
       "    .colab-df-convert {\n",
       "      background-color: #E8F0FE;\n",
       "      border: none;\n",
       "      border-radius: 50%;\n",
       "      cursor: pointer;\n",
       "      display: none;\n",
       "      fill: #1967D2;\n",
       "      height: 32px;\n",
       "      padding: 0 0 0 0;\n",
       "      width: 32px;\n",
       "    }\n",
       "\n",
       "    .colab-df-convert:hover {\n",
       "      background-color: #E2EBFA;\n",
       "      box-shadow: 0px 1px 2px rgba(60, 64, 67, 0.3), 0px 1px 3px 1px rgba(60, 64, 67, 0.15);\n",
       "      fill: #174EA6;\n",
       "    }\n",
       "\n",
       "    [theme=dark] .colab-df-convert {\n",
       "      background-color: #3B4455;\n",
       "      fill: #D2E3FC;\n",
       "    }\n",
       "\n",
       "    [theme=dark] .colab-df-convert:hover {\n",
       "      background-color: #434B5C;\n",
       "      box-shadow: 0px 1px 3px 1px rgba(0, 0, 0, 0.15);\n",
       "      filter: drop-shadow(0px 1px 2px rgba(0, 0, 0, 0.3));\n",
       "      fill: #FFFFFF;\n",
       "    }\n",
       "  </style>\n",
       "\n",
       "      <script>\n",
       "        const buttonEl =\n",
       "          document.querySelector('#df-ded5d202-06db-4ac8-b080-af0ddf1c0fa9 button.colab-df-convert');\n",
       "        buttonEl.style.display =\n",
       "          google.colab.kernel.accessAllowed ? 'block' : 'none';\n",
       "\n",
       "        async function convertToInteractive(key) {\n",
       "          const element = document.querySelector('#df-ded5d202-06db-4ac8-b080-af0ddf1c0fa9');\n",
       "          const dataTable =\n",
       "            await google.colab.kernel.invokeFunction('convertToInteractive',\n",
       "                                                     [key], {});\n",
       "          if (!dataTable) return;\n",
       "\n",
       "          const docLinkHtml = 'Like what you see? Visit the ' +\n",
       "            '<a target=\"_blank\" href=https://colab.research.google.com/notebooks/data_table.ipynb>data table notebook</a>'\n",
       "            + ' to learn more about interactive tables.';\n",
       "          element.innerHTML = '';\n",
       "          dataTable['output_type'] = 'display_data';\n",
       "          await google.colab.output.renderOutput(dataTable, element);\n",
       "          const docLink = document.createElement('div');\n",
       "          docLink.innerHTML = docLinkHtml;\n",
       "          element.appendChild(docLink);\n",
       "        }\n",
       "      </script>\n",
       "    </div>\n",
       "  </div>\n",
       "  "
      ],
      "text/plain": [
       "    age  anaemia  creatinine_phosphokinase  diabetes  ejection_fraction  \\\n",
       "0  42.0        1                       250         1                 15   \n",
       "1  46.0        0                       168         1                 17   \n",
       "2  65.0        1                       160         1                 20   \n",
       "3  53.0        1                        91         0                 20   \n",
       "4  50.0        1                       582         1                 20   \n",
       "\n",
       "   high_blood_pressure  platelets  serum_creatinine  serum_sodium  sex  \\\n",
       "0                    0   213000.0               1.3           136    0   \n",
       "1                    1   271000.0               2.1           124    0   \n",
       "2                    0   327000.0               2.7           116    0   \n",
       "3                    1   418000.0               1.4           139    0   \n",
       "4                    1   279000.0               1.0           134    0   \n",
       "\n",
       "   smoking  time  DEATH_EVENT  \n",
       "0        0    65            1  \n",
       "1        0   100            1  \n",
       "2        0     8            1  \n",
       "3        0    43            1  \n",
       "4        0   186            0  "
      ]
     },
     "execution_count": 193,
     "metadata": {},
     "output_type": "execute_result"
    }
   ],
   "source": [
    "# menampilkan head data\n",
    "data.head()"
   ]
  },
  {
   "cell_type": "code",
   "execution_count": 194,
   "metadata": {
    "colab": {
     "base_uri": "https://localhost:8080/",
     "height": 270
    },
    "id": "TVTQBETXAgUq",
    "outputId": "a63d74a9-b063-40d6-bff0-94c604f36fee"
   },
   "outputs": [
    {
     "data": {
      "text/html": [
       "\n",
       "  <div id=\"df-ee175f6f-84ee-4d0a-8566-bf0c09fa95e9\">\n",
       "    <div class=\"colab-df-container\">\n",
       "      <div>\n",
       "<style scoped>\n",
       "    .dataframe tbody tr th:only-of-type {\n",
       "        vertical-align: middle;\n",
       "    }\n",
       "\n",
       "    .dataframe tbody tr th {\n",
       "        vertical-align: top;\n",
       "    }\n",
       "\n",
       "    .dataframe thead th {\n",
       "        text-align: right;\n",
       "    }\n",
       "</style>\n",
       "<table border=\"1\" class=\"dataframe\">\n",
       "  <thead>\n",
       "    <tr style=\"text-align: right;\">\n",
       "      <th></th>\n",
       "      <th>age</th>\n",
       "      <th>anaemia</th>\n",
       "      <th>creatinine_phosphokinase</th>\n",
       "      <th>diabetes</th>\n",
       "      <th>ejection_fraction</th>\n",
       "      <th>high_blood_pressure</th>\n",
       "      <th>platelets</th>\n",
       "      <th>serum_creatinine</th>\n",
       "      <th>serum_sodium</th>\n",
       "      <th>sex</th>\n",
       "      <th>smoking</th>\n",
       "      <th>time</th>\n",
       "      <th>DEATH_EVENT</th>\n",
       "    </tr>\n",
       "  </thead>\n",
       "  <tbody>\n",
       "    <tr>\n",
       "      <th>294</th>\n",
       "      <td>63.0</td>\n",
       "      <td>1</td>\n",
       "      <td>122</td>\n",
       "      <td>1</td>\n",
       "      <td>60</td>\n",
       "      <td>0</td>\n",
       "      <td>267000.00</td>\n",
       "      <td>1.2</td>\n",
       "      <td>145</td>\n",
       "      <td>1</td>\n",
       "      <td>0</td>\n",
       "      <td>147</td>\n",
       "      <td>0</td>\n",
       "    </tr>\n",
       "    <tr>\n",
       "      <th>295</th>\n",
       "      <td>45.0</td>\n",
       "      <td>0</td>\n",
       "      <td>308</td>\n",
       "      <td>1</td>\n",
       "      <td>60</td>\n",
       "      <td>1</td>\n",
       "      <td>377000.00</td>\n",
       "      <td>1.0</td>\n",
       "      <td>136</td>\n",
       "      <td>1</td>\n",
       "      <td>0</td>\n",
       "      <td>186</td>\n",
       "      <td>0</td>\n",
       "    </tr>\n",
       "    <tr>\n",
       "      <th>296</th>\n",
       "      <td>70.0</td>\n",
       "      <td>0</td>\n",
       "      <td>97</td>\n",
       "      <td>0</td>\n",
       "      <td>60</td>\n",
       "      <td>1</td>\n",
       "      <td>220000.00</td>\n",
       "      <td>0.9</td>\n",
       "      <td>138</td>\n",
       "      <td>1</td>\n",
       "      <td>0</td>\n",
       "      <td>186</td>\n",
       "      <td>0</td>\n",
       "    </tr>\n",
       "    <tr>\n",
       "      <th>297</th>\n",
       "      <td>53.0</td>\n",
       "      <td>1</td>\n",
       "      <td>446</td>\n",
       "      <td>0</td>\n",
       "      <td>60</td>\n",
       "      <td>1</td>\n",
       "      <td>263358.03</td>\n",
       "      <td>1.0</td>\n",
       "      <td>139</td>\n",
       "      <td>1</td>\n",
       "      <td>0</td>\n",
       "      <td>215</td>\n",
       "      <td>0</td>\n",
       "    </tr>\n",
       "    <tr>\n",
       "      <th>298</th>\n",
       "      <td>50.0</td>\n",
       "      <td>0</td>\n",
       "      <td>582</td>\n",
       "      <td>0</td>\n",
       "      <td>62</td>\n",
       "      <td>1</td>\n",
       "      <td>147000.00</td>\n",
       "      <td>0.8</td>\n",
       "      <td>140</td>\n",
       "      <td>1</td>\n",
       "      <td>1</td>\n",
       "      <td>192</td>\n",
       "      <td>0</td>\n",
       "    </tr>\n",
       "  </tbody>\n",
       "</table>\n",
       "</div>\n",
       "      <button class=\"colab-df-convert\" onclick=\"convertToInteractive('df-ee175f6f-84ee-4d0a-8566-bf0c09fa95e9')\"\n",
       "              title=\"Convert this dataframe to an interactive table.\"\n",
       "              style=\"display:none;\">\n",
       "        \n",
       "  <svg xmlns=\"http://www.w3.org/2000/svg\" height=\"24px\"viewBox=\"0 0 24 24\"\n",
       "       width=\"24px\">\n",
       "    <path d=\"M0 0h24v24H0V0z\" fill=\"none\"/>\n",
       "    <path d=\"M18.56 5.44l.94 2.06.94-2.06 2.06-.94-2.06-.94-.94-2.06-.94 2.06-2.06.94zm-11 1L8.5 8.5l.94-2.06 2.06-.94-2.06-.94L8.5 2.5l-.94 2.06-2.06.94zm10 10l.94 2.06.94-2.06 2.06-.94-2.06-.94-.94-2.06-.94 2.06-2.06.94z\"/><path d=\"M17.41 7.96l-1.37-1.37c-.4-.4-.92-.59-1.43-.59-.52 0-1.04.2-1.43.59L10.3 9.45l-7.72 7.72c-.78.78-.78 2.05 0 2.83L4 21.41c.39.39.9.59 1.41.59.51 0 1.02-.2 1.41-.59l7.78-7.78 2.81-2.81c.8-.78.8-2.07 0-2.86zM5.41 20L4 18.59l7.72-7.72 1.47 1.35L5.41 20z\"/>\n",
       "  </svg>\n",
       "      </button>\n",
       "      \n",
       "  <style>\n",
       "    .colab-df-container {\n",
       "      display:flex;\n",
       "      flex-wrap:wrap;\n",
       "      gap: 12px;\n",
       "    }\n",
       "\n",
       "    .colab-df-convert {\n",
       "      background-color: #E8F0FE;\n",
       "      border: none;\n",
       "      border-radius: 50%;\n",
       "      cursor: pointer;\n",
       "      display: none;\n",
       "      fill: #1967D2;\n",
       "      height: 32px;\n",
       "      padding: 0 0 0 0;\n",
       "      width: 32px;\n",
       "    }\n",
       "\n",
       "    .colab-df-convert:hover {\n",
       "      background-color: #E2EBFA;\n",
       "      box-shadow: 0px 1px 2px rgba(60, 64, 67, 0.3), 0px 1px 3px 1px rgba(60, 64, 67, 0.15);\n",
       "      fill: #174EA6;\n",
       "    }\n",
       "\n",
       "    [theme=dark] .colab-df-convert {\n",
       "      background-color: #3B4455;\n",
       "      fill: #D2E3FC;\n",
       "    }\n",
       "\n",
       "    [theme=dark] .colab-df-convert:hover {\n",
       "      background-color: #434B5C;\n",
       "      box-shadow: 0px 1px 3px 1px rgba(0, 0, 0, 0.15);\n",
       "      filter: drop-shadow(0px 1px 2px rgba(0, 0, 0, 0.3));\n",
       "      fill: #FFFFFF;\n",
       "    }\n",
       "  </style>\n",
       "\n",
       "      <script>\n",
       "        const buttonEl =\n",
       "          document.querySelector('#df-ee175f6f-84ee-4d0a-8566-bf0c09fa95e9 button.colab-df-convert');\n",
       "        buttonEl.style.display =\n",
       "          google.colab.kernel.accessAllowed ? 'block' : 'none';\n",
       "\n",
       "        async function convertToInteractive(key) {\n",
       "          const element = document.querySelector('#df-ee175f6f-84ee-4d0a-8566-bf0c09fa95e9');\n",
       "          const dataTable =\n",
       "            await google.colab.kernel.invokeFunction('convertToInteractive',\n",
       "                                                     [key], {});\n",
       "          if (!dataTable) return;\n",
       "\n",
       "          const docLinkHtml = 'Like what you see? Visit the ' +\n",
       "            '<a target=\"_blank\" href=https://colab.research.google.com/notebooks/data_table.ipynb>data table notebook</a>'\n",
       "            + ' to learn more about interactive tables.';\n",
       "          element.innerHTML = '';\n",
       "          dataTable['output_type'] = 'display_data';\n",
       "          await google.colab.output.renderOutput(dataTable, element);\n",
       "          const docLink = document.createElement('div');\n",
       "          docLink.innerHTML = docLinkHtml;\n",
       "          element.appendChild(docLink);\n",
       "        }\n",
       "      </script>\n",
       "    </div>\n",
       "  </div>\n",
       "  "
      ],
      "text/plain": [
       "      age  anaemia  creatinine_phosphokinase  diabetes  ejection_fraction  \\\n",
       "294  63.0        1                       122         1                 60   \n",
       "295  45.0        0                       308         1                 60   \n",
       "296  70.0        0                        97         0                 60   \n",
       "297  53.0        1                       446         0                 60   \n",
       "298  50.0        0                       582         0                 62   \n",
       "\n",
       "     high_blood_pressure  platelets  serum_creatinine  serum_sodium  sex  \\\n",
       "294                    0  267000.00               1.2           145    1   \n",
       "295                    1  377000.00               1.0           136    1   \n",
       "296                    1  220000.00               0.9           138    1   \n",
       "297                    1  263358.03               1.0           139    1   \n",
       "298                    1  147000.00               0.8           140    1   \n",
       "\n",
       "     smoking  time  DEATH_EVENT  \n",
       "294        0   147            0  \n",
       "295        0   186            0  \n",
       "296        0   186            0  \n",
       "297        0   215            0  \n",
       "298        1   192            0  "
      ]
     },
     "execution_count": 194,
     "metadata": {},
     "output_type": "execute_result"
    }
   ],
   "source": [
    "# menapilkan 5 baris data terakhir\n",
    "data.tail()"
   ]
  },
  {
   "cell_type": "markdown",
   "metadata": {
    "id": "ZpO5cFY9zgJ2"
   },
   "source": [
    "### 1. Data information"
   ]
  },
  {
   "cell_type": "code",
   "execution_count": 195,
   "metadata": {
    "colab": {
     "base_uri": "https://localhost:8080/"
    },
    "id": "ae5Ca3S6Ajwq",
    "outputId": "157024f8-0384-4c2e-c151-95dce5e8695b"
   },
   "outputs": [
    {
     "name": "stdout",
     "output_type": "stream",
     "text": [
      "<class 'pandas.core.frame.DataFrame'>\n",
      "RangeIndex: 299 entries, 0 to 298\n",
      "Data columns (total 13 columns):\n",
      " #   Column                    Non-Null Count  Dtype  \n",
      "---  ------                    --------------  -----  \n",
      " 0   age                       299 non-null    float64\n",
      " 1   anaemia                   299 non-null    int64  \n",
      " 2   creatinine_phosphokinase  299 non-null    int64  \n",
      " 3   diabetes                  299 non-null    int64  \n",
      " 4   ejection_fraction         299 non-null    int64  \n",
      " 5   high_blood_pressure       299 non-null    int64  \n",
      " 6   platelets                 299 non-null    float64\n",
      " 7   serum_creatinine          299 non-null    float64\n",
      " 8   serum_sodium              299 non-null    int64  \n",
      " 9   sex                       299 non-null    int64  \n",
      " 10  smoking                   299 non-null    int64  \n",
      " 11  time                      299 non-null    int64  \n",
      " 12  DEATH_EVENT               299 non-null    int64  \n",
      "dtypes: float64(3), int64(10)\n",
      "memory usage: 30.5 KB\n"
     ]
    }
   ],
   "source": [
    "# menampilkan info data\n",
    "data.info()"
   ]
  },
  {
   "cell_type": "markdown",
   "metadata": {
    "id": "sLR68HKXyGjP"
   },
   "source": [
    "data info memperlihatkan secara menyeluruh basic info data\n",
    "- kita memiliki 2 type data (float64(3,int64(10)\n",
    "- 13 kolom\n",
    "- 299 row\n",
    "- tidak terlihat ada missing value"
   ]
  },
  {
   "cell_type": "code",
   "execution_count": 196,
   "metadata": {
    "colab": {
     "base_uri": "https://localhost:8080/",
     "height": 521
    },
    "id": "il2PBK-uCTCQ",
    "outputId": "e475ada6-27e5-4d18-cea3-f6b92a2bc931"
   },
   "outputs": [
    {
     "data": {
      "text/html": [
       "\n",
       "  <div id=\"df-54306748-ab6b-405a-99b9-06e483ec59de\">\n",
       "    <div class=\"colab-df-container\">\n",
       "      <div>\n",
       "<style scoped>\n",
       "    .dataframe tbody tr th:only-of-type {\n",
       "        vertical-align: middle;\n",
       "    }\n",
       "\n",
       "    .dataframe tbody tr th {\n",
       "        vertical-align: top;\n",
       "    }\n",
       "\n",
       "    .dataframe thead th {\n",
       "        text-align: right;\n",
       "    }\n",
       "</style>\n",
       "<table border=\"1\" class=\"dataframe\">\n",
       "  <thead>\n",
       "    <tr style=\"text-align: right;\">\n",
       "      <th></th>\n",
       "      <th>count</th>\n",
       "      <th>mean</th>\n",
       "      <th>std</th>\n",
       "      <th>min</th>\n",
       "      <th>25%</th>\n",
       "      <th>50%</th>\n",
       "      <th>75%</th>\n",
       "      <th>max</th>\n",
       "    </tr>\n",
       "  </thead>\n",
       "  <tbody>\n",
       "    <tr>\n",
       "      <th>age</th>\n",
       "      <td>299.0</td>\n",
       "      <td>60.833893</td>\n",
       "      <td>11.894809</td>\n",
       "      <td>40.0</td>\n",
       "      <td>51.0</td>\n",
       "      <td>60.0</td>\n",
       "      <td>70.0</td>\n",
       "      <td>95.0</td>\n",
       "    </tr>\n",
       "    <tr>\n",
       "      <th>anaemia</th>\n",
       "      <td>299.0</td>\n",
       "      <td>0.431438</td>\n",
       "      <td>0.496107</td>\n",
       "      <td>0.0</td>\n",
       "      <td>0.0</td>\n",
       "      <td>0.0</td>\n",
       "      <td>1.0</td>\n",
       "      <td>1.0</td>\n",
       "    </tr>\n",
       "    <tr>\n",
       "      <th>creatinine_phosphokinase</th>\n",
       "      <td>299.0</td>\n",
       "      <td>581.839465</td>\n",
       "      <td>970.287881</td>\n",
       "      <td>23.0</td>\n",
       "      <td>116.5</td>\n",
       "      <td>250.0</td>\n",
       "      <td>582.0</td>\n",
       "      <td>7861.0</td>\n",
       "    </tr>\n",
       "    <tr>\n",
       "      <th>diabetes</th>\n",
       "      <td>299.0</td>\n",
       "      <td>0.418060</td>\n",
       "      <td>0.494067</td>\n",
       "      <td>0.0</td>\n",
       "      <td>0.0</td>\n",
       "      <td>0.0</td>\n",
       "      <td>1.0</td>\n",
       "      <td>1.0</td>\n",
       "    </tr>\n",
       "    <tr>\n",
       "      <th>ejection_fraction</th>\n",
       "      <td>299.0</td>\n",
       "      <td>38.083612</td>\n",
       "      <td>11.834841</td>\n",
       "      <td>14.0</td>\n",
       "      <td>30.0</td>\n",
       "      <td>38.0</td>\n",
       "      <td>45.0</td>\n",
       "      <td>80.0</td>\n",
       "    </tr>\n",
       "    <tr>\n",
       "      <th>high_blood_pressure</th>\n",
       "      <td>299.0</td>\n",
       "      <td>0.351171</td>\n",
       "      <td>0.478136</td>\n",
       "      <td>0.0</td>\n",
       "      <td>0.0</td>\n",
       "      <td>0.0</td>\n",
       "      <td>1.0</td>\n",
       "      <td>1.0</td>\n",
       "    </tr>\n",
       "    <tr>\n",
       "      <th>platelets</th>\n",
       "      <td>299.0</td>\n",
       "      <td>263358.029264</td>\n",
       "      <td>97804.236869</td>\n",
       "      <td>25100.0</td>\n",
       "      <td>212500.0</td>\n",
       "      <td>262000.0</td>\n",
       "      <td>303500.0</td>\n",
       "      <td>850000.0</td>\n",
       "    </tr>\n",
       "    <tr>\n",
       "      <th>serum_creatinine</th>\n",
       "      <td>299.0</td>\n",
       "      <td>1.393880</td>\n",
       "      <td>1.034510</td>\n",
       "      <td>0.5</td>\n",
       "      <td>0.9</td>\n",
       "      <td>1.1</td>\n",
       "      <td>1.4</td>\n",
       "      <td>9.4</td>\n",
       "    </tr>\n",
       "    <tr>\n",
       "      <th>serum_sodium</th>\n",
       "      <td>299.0</td>\n",
       "      <td>136.625418</td>\n",
       "      <td>4.412477</td>\n",
       "      <td>113.0</td>\n",
       "      <td>134.0</td>\n",
       "      <td>137.0</td>\n",
       "      <td>140.0</td>\n",
       "      <td>148.0</td>\n",
       "    </tr>\n",
       "    <tr>\n",
       "      <th>sex</th>\n",
       "      <td>299.0</td>\n",
       "      <td>0.648829</td>\n",
       "      <td>0.478136</td>\n",
       "      <td>0.0</td>\n",
       "      <td>0.0</td>\n",
       "      <td>1.0</td>\n",
       "      <td>1.0</td>\n",
       "      <td>1.0</td>\n",
       "    </tr>\n",
       "    <tr>\n",
       "      <th>smoking</th>\n",
       "      <td>299.0</td>\n",
       "      <td>0.321070</td>\n",
       "      <td>0.467670</td>\n",
       "      <td>0.0</td>\n",
       "      <td>0.0</td>\n",
       "      <td>0.0</td>\n",
       "      <td>1.0</td>\n",
       "      <td>1.0</td>\n",
       "    </tr>\n",
       "    <tr>\n",
       "      <th>time</th>\n",
       "      <td>299.0</td>\n",
       "      <td>130.260870</td>\n",
       "      <td>77.614208</td>\n",
       "      <td>4.0</td>\n",
       "      <td>73.0</td>\n",
       "      <td>115.0</td>\n",
       "      <td>203.0</td>\n",
       "      <td>285.0</td>\n",
       "    </tr>\n",
       "    <tr>\n",
       "      <th>DEATH_EVENT</th>\n",
       "      <td>299.0</td>\n",
       "      <td>0.321070</td>\n",
       "      <td>0.467670</td>\n",
       "      <td>0.0</td>\n",
       "      <td>0.0</td>\n",
       "      <td>0.0</td>\n",
       "      <td>1.0</td>\n",
       "      <td>1.0</td>\n",
       "    </tr>\n",
       "  </tbody>\n",
       "</table>\n",
       "</div>\n",
       "      <button class=\"colab-df-convert\" onclick=\"convertToInteractive('df-54306748-ab6b-405a-99b9-06e483ec59de')\"\n",
       "              title=\"Convert this dataframe to an interactive table.\"\n",
       "              style=\"display:none;\">\n",
       "        \n",
       "  <svg xmlns=\"http://www.w3.org/2000/svg\" height=\"24px\"viewBox=\"0 0 24 24\"\n",
       "       width=\"24px\">\n",
       "    <path d=\"M0 0h24v24H0V0z\" fill=\"none\"/>\n",
       "    <path d=\"M18.56 5.44l.94 2.06.94-2.06 2.06-.94-2.06-.94-.94-2.06-.94 2.06-2.06.94zm-11 1L8.5 8.5l.94-2.06 2.06-.94-2.06-.94L8.5 2.5l-.94 2.06-2.06.94zm10 10l.94 2.06.94-2.06 2.06-.94-2.06-.94-.94-2.06-.94 2.06-2.06.94z\"/><path d=\"M17.41 7.96l-1.37-1.37c-.4-.4-.92-.59-1.43-.59-.52 0-1.04.2-1.43.59L10.3 9.45l-7.72 7.72c-.78.78-.78 2.05 0 2.83L4 21.41c.39.39.9.59 1.41.59.51 0 1.02-.2 1.41-.59l7.78-7.78 2.81-2.81c.8-.78.8-2.07 0-2.86zM5.41 20L4 18.59l7.72-7.72 1.47 1.35L5.41 20z\"/>\n",
       "  </svg>\n",
       "      </button>\n",
       "      \n",
       "  <style>\n",
       "    .colab-df-container {\n",
       "      display:flex;\n",
       "      flex-wrap:wrap;\n",
       "      gap: 12px;\n",
       "    }\n",
       "\n",
       "    .colab-df-convert {\n",
       "      background-color: #E8F0FE;\n",
       "      border: none;\n",
       "      border-radius: 50%;\n",
       "      cursor: pointer;\n",
       "      display: none;\n",
       "      fill: #1967D2;\n",
       "      height: 32px;\n",
       "      padding: 0 0 0 0;\n",
       "      width: 32px;\n",
       "    }\n",
       "\n",
       "    .colab-df-convert:hover {\n",
       "      background-color: #E2EBFA;\n",
       "      box-shadow: 0px 1px 2px rgba(60, 64, 67, 0.3), 0px 1px 3px 1px rgba(60, 64, 67, 0.15);\n",
       "      fill: #174EA6;\n",
       "    }\n",
       "\n",
       "    [theme=dark] .colab-df-convert {\n",
       "      background-color: #3B4455;\n",
       "      fill: #D2E3FC;\n",
       "    }\n",
       "\n",
       "    [theme=dark] .colab-df-convert:hover {\n",
       "      background-color: #434B5C;\n",
       "      box-shadow: 0px 1px 3px 1px rgba(0, 0, 0, 0.15);\n",
       "      filter: drop-shadow(0px 1px 2px rgba(0, 0, 0, 0.3));\n",
       "      fill: #FFFFFF;\n",
       "    }\n",
       "  </style>\n",
       "\n",
       "      <script>\n",
       "        const buttonEl =\n",
       "          document.querySelector('#df-54306748-ab6b-405a-99b9-06e483ec59de button.colab-df-convert');\n",
       "        buttonEl.style.display =\n",
       "          google.colab.kernel.accessAllowed ? 'block' : 'none';\n",
       "\n",
       "        async function convertToInteractive(key) {\n",
       "          const element = document.querySelector('#df-54306748-ab6b-405a-99b9-06e483ec59de');\n",
       "          const dataTable =\n",
       "            await google.colab.kernel.invokeFunction('convertToInteractive',\n",
       "                                                     [key], {});\n",
       "          if (!dataTable) return;\n",
       "\n",
       "          const docLinkHtml = 'Like what you see? Visit the ' +\n",
       "            '<a target=\"_blank\" href=https://colab.research.google.com/notebooks/data_table.ipynb>data table notebook</a>'\n",
       "            + ' to learn more about interactive tables.';\n",
       "          element.innerHTML = '';\n",
       "          dataTable['output_type'] = 'display_data';\n",
       "          await google.colab.output.renderOutput(dataTable, element);\n",
       "          const docLink = document.createElement('div');\n",
       "          docLink.innerHTML = docLinkHtml;\n",
       "          element.appendChild(docLink);\n",
       "        }\n",
       "      </script>\n",
       "    </div>\n",
       "  </div>\n",
       "  "
      ],
      "text/plain": [
       "                          count           mean           std      min  \\\n",
       "age                       299.0      60.833893     11.894809     40.0   \n",
       "anaemia                   299.0       0.431438      0.496107      0.0   \n",
       "creatinine_phosphokinase  299.0     581.839465    970.287881     23.0   \n",
       "diabetes                  299.0       0.418060      0.494067      0.0   \n",
       "ejection_fraction         299.0      38.083612     11.834841     14.0   \n",
       "high_blood_pressure       299.0       0.351171      0.478136      0.0   \n",
       "platelets                 299.0  263358.029264  97804.236869  25100.0   \n",
       "serum_creatinine          299.0       1.393880      1.034510      0.5   \n",
       "serum_sodium              299.0     136.625418      4.412477    113.0   \n",
       "sex                       299.0       0.648829      0.478136      0.0   \n",
       "smoking                   299.0       0.321070      0.467670      0.0   \n",
       "time                      299.0     130.260870     77.614208      4.0   \n",
       "DEATH_EVENT               299.0       0.321070      0.467670      0.0   \n",
       "\n",
       "                               25%       50%       75%       max  \n",
       "age                           51.0      60.0      70.0      95.0  \n",
       "anaemia                        0.0       0.0       1.0       1.0  \n",
       "creatinine_phosphokinase     116.5     250.0     582.0    7861.0  \n",
       "diabetes                       0.0       0.0       1.0       1.0  \n",
       "ejection_fraction             30.0      38.0      45.0      80.0  \n",
       "high_blood_pressure            0.0       0.0       1.0       1.0  \n",
       "platelets                 212500.0  262000.0  303500.0  850000.0  \n",
       "serum_creatinine               0.9       1.1       1.4       9.4  \n",
       "serum_sodium                 134.0     137.0     140.0     148.0  \n",
       "sex                            0.0       1.0       1.0       1.0  \n",
       "smoking                        0.0       0.0       1.0       1.0  \n",
       "time                          73.0     115.0     203.0     285.0  \n",
       "DEATH_EVENT                    0.0       0.0       1.0       1.0  "
      ]
     },
     "execution_count": 196,
     "metadata": {},
     "output_type": "execute_result"
    }
   ],
   "source": [
    "# describe data\n",
    "data.describe().T"
   ]
  },
  {
   "cell_type": "markdown",
   "metadata": {
    "id": "Hud_kS1Eyx23"
   },
   "source": [
    "- tidak ditemukan anomali pada data"
   ]
  },
  {
   "cell_type": "code",
   "execution_count": 197,
   "metadata": {
    "colab": {
     "base_uri": "https://localhost:8080/"
    },
    "id": "P1h0VBEHxSuy",
    "outputId": "ce54aa2e-c98d-460b-ea84-1a228eff1c56"
   },
   "outputs": [
    {
     "name": "stdout",
     "output_type": "stream",
     "text": [
      "All columns Unique values count\n",
      "age: 47\n",
      "anaemia: 2\n",
      "creatinine_phosphokinase: 208\n",
      "diabetes: 2\n",
      "ejection_fraction: 17\n",
      "high_blood_pressure: 2\n",
      "platelets: 176\n",
      "serum_creatinine: 40\n",
      "serum_sodium: 27\n",
      "sex: 2\n",
      "smoking: 2\n",
      "time: 148\n",
      "DEATH_EVENT: 2\n"
     ]
    }
   ],
   "source": [
    "# mendefinisikan value pada masing2 kolom\n",
    "print(\"All columns Unique values count\")\n",
    "for col in data:\n",
    "    print(col, len(data[col].unique()), sep=': ')"
   ]
  },
  {
   "cell_type": "markdown",
   "metadata": {
    "id": "Eu3miEzYzCTQ"
   },
   "source": [
    "beberapa kolom memiliki data biner\n",
    "- anemia, diabetes, high_blood_preassure, sex, smoking, Death_event.\n",
    "\n",
    "dan kolom-kolom ini juga nilainya telah diencode"
   ]
  },
  {
   "cell_type": "markdown",
   "metadata": {
    "id": "RWPrwG8fzZZr"
   },
   "source": [
    "## 2. Data Cleaning\n",
    "*pada bagian ini akan dilakukan pembersihan data*"
   ]
  },
  {
   "cell_type": "markdown",
   "metadata": {
    "id": "EfsEHWp_zuXy"
   },
   "source": [
    "**Handling Missing Value**"
   ]
  },
  {
   "cell_type": "code",
   "execution_count": 198,
   "metadata": {
    "colab": {
     "base_uri": "https://localhost:8080/"
    },
    "id": "5pMAcqHKza7x",
    "outputId": "9b90489a-399e-473a-b493-4a856d5f5e1c"
   },
   "outputs": [
    {
     "data": {
      "text/plain": [
       "age                         0\n",
       "anaemia                     0\n",
       "creatinine_phosphokinase    0\n",
       "diabetes                    0\n",
       "ejection_fraction           0\n",
       "high_blood_pressure         0\n",
       "platelets                   0\n",
       "serum_creatinine            0\n",
       "serum_sodium                0\n",
       "sex                         0\n",
       "smoking                     0\n",
       "time                        0\n",
       "DEATH_EVENT                 0\n",
       "dtype: int64"
      ]
     },
     "execution_count": 198,
     "metadata": {},
     "output_type": "execute_result"
    }
   ],
   "source": [
    "# menjumlahkan missing valaue setiap kolom\n",
    "data.isna().sum()"
   ]
  },
  {
   "cell_type": "markdown",
   "metadata": {
    "id": "TSCd5-hAzx2v"
   },
   "source": [
    "tidak ditemukan adanya missing value pada data"
   ]
  },
  {
   "cell_type": "markdown",
   "metadata": {
    "id": "m5imIDbfz5se"
   },
   "source": [
    "**Handling Duplicated Data**"
   ]
  },
  {
   "cell_type": "code",
   "execution_count": 199,
   "metadata": {
    "colab": {
     "base_uri": "https://localhost:8080/"
    },
    "id": "ShWiOQIfzreU",
    "outputId": "c5df28e1-63d9-4bef-df1a-9b9512b318a7"
   },
   "outputs": [
    {
     "data": {
      "text/plain": [
       "0"
      ]
     },
     "execution_count": 199,
     "metadata": {},
     "output_type": "execute_result"
    }
   ],
   "source": [
    "# checking duplicated data\n",
    "data.duplicated().sum()"
   ]
  },
  {
   "cell_type": "markdown",
   "metadata": {
    "id": "Am2prXNV0KQP"
   },
   "source": [
    "tidak ditemukan data duplicated pada data"
   ]
  },
  {
   "cell_type": "markdown",
   "metadata": {
    "id": "6Y840r_I0OI-"
   },
   "source": [
    "# C. Exploratory Data Analysis\n",
    "*exploring data*"
   ]
  },
  {
   "cell_type": "code",
   "execution_count": 200,
   "metadata": {
    "colab": {
     "base_uri": "https://localhost:8080/",
     "height": 299
    },
    "id": "08zX0Sez0W7-",
    "outputId": "20383e74-b460-464e-830c-66cd522b448b"
   },
   "outputs": [
    {
     "data": {
      "image/png": "[encoded data removed]",
      "text/plain": [
       "<Figure size 1080x432 with 2 Axes>"
      ]
     },
     "metadata": {
      "needs_background": "light"
     },
     "output_type": "display_data"
    }
   ],
   "source": [
    "# membuat grafik countplot untuk kolom target\n",
    "\n",
    "plt.figure(figsize=(15, 6))\n",
    "plt.subplot(1, 2, 1)\n",
    "sns.countplot(x='DEATH_EVENT', data=data)\n",
    "plt.title('DEATH_EVENT')\n",
    "plt.xlabel('DEATH_EVENT')\n",
    "plt.ylabel('Count')\n",
    "plt.subplot(1, 2, 2)\n",
    "plt.pie(data.DEATH_EVENT.value_counts(), labels=data.DEATH_EVENT.value_counts().index, autopct='%1.1f%%')\n",
    "plt.title('DEATH_EVENT Percentage')\n",
    "plt.show()"
   ]
  },
  {
   "cell_type": "markdown",
   "metadata": {
    "id": "-wK6enXqQNlX"
   },
   "source": [
    "persentase pasien yang terkenal gagal jantung adalah 32.1 persen, data ini cukup sangat banyak jika dibandingkan total data yaitu sepertiga pasien telah mengalami gagal jantung.\n",
    "- tindak lanjut cepat perlu dilakukan untuk menurunkan resiko pada masa yang akan datang\n",
    "- kita akan membuat model untuk solusi hal ini"
   ]
  },
  {
   "cell_type": "code",
   "execution_count": 201,
   "metadata": {
    "colab": {
     "base_uri": "https://localhost:8080/",
     "height": 495
    },
    "id": "-J8g4OleWpKg",
    "outputId": "3ceb368a-b919-476d-8cf4-2cba29e582da"
   },
   "outputs": [
    {
     "name": "stderr",
     "output_type": "stream",
     "text": [
      "/usr/local/lib/python3.7/dist-packages/numpy/core/fromnumeric.py:3208: VisibleDeprecationWarning: Creating an ndarray from ragged nested sequences (which is a list-or-tuple of lists-or-tuples-or ndarrays with different lengths or shapes) is deprecated. If you meant to do this, you must specify 'dtype=object' when creating the ndarray.\n",
      "  return asarray(a).size\n",
      "/usr/local/lib/python3.7/dist-packages/matplotlib/cbook/__init__.py:1376: VisibleDeprecationWarning: Creating an ndarray from ragged nested sequences (which is a list-or-tuple of lists-or-tuples-or ndarrays with different lengths or shapes) is deprecated. If you meant to do this, you must specify 'dtype=object' when creating the ndarray.\n",
      "  X = np.atleast_1d(X.T if isinstance(X, np.ndarray) else np.asarray(X))\n"
     ]
    },
    {
     "data": {
      "text/plain": [
       "<matplotlib.legend.Legend at 0x7f38ea99b3d0>"
      ]
     },
     "execution_count": 201,
     "metadata": {},
     "output_type": "execute_result"
    },
    {
     "data": {
      "image/png": "[encoded data removed]",
      "text/plain": [
       "<Figure size 576x432 with 1 Axes>"
      ]
     },
     "metadata": {
      "needs_background": "light"
     },
     "output_type": "display_data"
    }
   ],
   "source": [
    "age1 = data[data['DEATH_EVENT'] == 1].age\n",
    "age = data.age\n",
    "\n",
    "plt.figure(figsize=(8,6))\n",
    "plt.xlabel('Age')\n",
    "plt.ylabel('Death Event')\n",
    "plt.hist([age1, age], label=['Death Event', 'No Death Event'])\n",
    "plt.legend()"
   ]
  },
  {
   "cell_type": "markdown",
   "metadata": {
    "id": "d0OM6YXUaBsC"
   },
   "source": [
    "- pasien dengan presentasi death event terbanyak  yaitu direntang 60-70 tahunan\n",
    "- kemudian pada 80 90 tahunnya bias, penulis berasumsi data yang dimiliki masih tidak cukup untuk menggambarkan presentase diumur ini. jika dilihat presentasinya snagat besar contohnya pada umur 90 tahunan sekitar 90 persen nya death event \n"
   ]
  },
  {
   "cell_type": "code",
   "execution_count": 202,
   "metadata": {
    "colab": {
     "base_uri": "https://localhost:8080/",
     "height": 351
    },
    "id": "3W03YGYsYQz7",
    "outputId": "3d414945-1ee0-4d5b-e97c-98b501f5fabb"
   },
   "outputs": [
    {
     "name": "stderr",
     "output_type": "stream",
     "text": [
      "/usr/local/lib/python3.7/dist-packages/seaborn/_decorators.py:43: FutureWarning: Pass the following variable as a keyword arg: x. From version 0.12, the only valid positional argument will be `data`, and passing other arguments without an explicit keyword will result in an error or misinterpretation.\n",
      "  FutureWarning\n"
     ]
    },
    {
     "data": {
      "text/plain": [
       "<matplotlib.axes._subplots.AxesSubplot at 0x7f38eabfc9d0>"
      ]
     },
     "execution_count": 202,
     "metadata": {},
     "output_type": "execute_result"
    },
    {
     "data": {
      "image/png": "[encoded data removed]",
      "text/plain": [
       "<Figure size 432x288 with 1 Axes>"
      ]
     },
     "metadata": {
      "needs_background": "light"
     },
     "output_type": "display_data"
    }
   ],
   "source": [
    "sns.countplot(data['anaemia'])"
   ]
  },
  {
   "cell_type": "code",
   "execution_count": 203,
   "metadata": {
    "colab": {
     "base_uri": "https://localhost:8080/",
     "height": 351
    },
    "id": "vN-3AsJGYUmB",
    "outputId": "9a001afd-45a2-48c2-f9bc-3430c51e9a2f"
   },
   "outputs": [
    {
     "name": "stderr",
     "output_type": "stream",
     "text": [
      "/usr/local/lib/python3.7/dist-packages/seaborn/_decorators.py:43: FutureWarning: Pass the following variable as a keyword arg: x. From version 0.12, the only valid positional argument will be `data`, and passing other arguments without an explicit keyword will result in an error or misinterpretation.\n",
      "  FutureWarning\n"
     ]
    },
    {
     "data": {
      "text/plain": [
       "<matplotlib.axes._subplots.AxesSubplot at 0x7f38eab40510>"
      ]
     },
     "execution_count": 203,
     "metadata": {},
     "output_type": "execute_result"
    },
    {
     "data": {
      "image/png": "[encoded data removed]",
      "text/plain": [
       "<Figure size 432x288 with 1 Axes>"
      ]
     },
     "metadata": {
      "needs_background": "light"
     },
     "output_type": "display_data"
    }
   ],
   "source": [
    "sns.countplot(data['diabetes'])"
   ]
  },
  {
   "cell_type": "markdown",
   "metadata": {
    "id": "INkg4oD-ayge"
   },
   "source": [
    "- ternyata anemia dan diabetes tidak berpengaruh besar pada heart failure\n",
    "- ini menjadi kabar baik tetapi pola hidup sehat harus tetap dijaga dan diperhatikan"
   ]
  },
  {
   "cell_type": "markdown",
   "metadata": {
    "id": "nNwXO9-V1HRb"
   },
   "source": [
    "# D. Data Preprocessing\n",
    "*bagian ini berisi penyiapan data untuk modelling*"
   ]
  },
  {
   "cell_type": "markdown",
   "metadata": {
    "id": "NQXhL1YI1MdK"
   },
   "source": [
    "#### 1. Split Data\n",
    "*akan dilakukan pemisahan data inference, data train dan data test.*"
   ]
  },
  {
   "cell_type": "code",
   "execution_count": 204,
   "metadata": {
    "id": "kfKtBwyh1Ix-"
   },
   "outputs": [],
   "source": [
    "# Mengambil data inference\n",
    "df_inf = data.sample(10, random_state=41)\n",
    "\n",
    "# Memisahkan data inf dari dataset\n",
    "df_train_test = data.drop(df_inf.index)\n",
    "\n",
    "# reset index untuk kedua datanya\n",
    "df_train_test.reset_index(drop=True, inplace=True)\n",
    "df_inf.reset_index(drop=True, inplace=True)"
   ]
  },
  {
   "cell_type": "code",
   "execution_count": 205,
   "metadata": {
    "colab": {
     "base_uri": "https://localhost:8080/"
    },
    "id": "qkJIj_hj1TaK",
    "outputId": "b1504ebe-21d5-449c-83e9-9946d220b34a"
   },
   "outputs": [
    {
     "name": "stdout",
     "output_type": "stream",
     "text": [
      "Train size:  (202, 13)\n",
      "Test size:  (87, 13)\n"
     ]
    }
   ],
   "source": [
    "# train_test_split\n",
    "# memisahkan data train dan test\n",
    "train, test = train_test_split(df_train_test, test_size=0.3, random_state=41)\n",
    "\n",
    "print('Train size: ', train.shape)\n",
    "print('Test size: ', test.shape)"
   ]
  },
  {
   "cell_type": "markdown",
   "metadata": {
    "id": "vVuCgccJ3CI1"
   },
   "source": [
    "- dilakukan pengambilan 10 data inference (karena datanya sedikit)\n",
    "- data inference di drop agar data tidak dipelajari model\n",
    "- dan dilakukan pemisahan 70:30 untuk data train test"
   ]
  },
  {
   "cell_type": "markdown",
   "metadata": {
    "id": "ewHGX04k3ZbK"
   },
   "source": [
    "### 2. Corelation dengan Heatmap\n",
    "*mencari korelasi/hubungan pada tiap kolom/feature dengan target, untuk menentukan feature yang digunakan*"
   ]
  },
  {
   "cell_type": "code",
   "execution_count": 206,
   "metadata": {
    "colab": {
     "base_uri": "https://localhost:8080/",
     "height": 465
    },
    "id": "9IKN7WM11tFZ",
    "outputId": "438f042f-5fc3-4e07-d5ec-0314aaac1f65"
   },
   "outputs": [
    {
     "name": "stdout",
     "output_type": "stream",
     "text": [
      "interval columns not set, guessing: ['age', 'anaemia', 'creatinine_phosphokinase', 'diabetes', 'ejection_fraction', 'high_blood_pressure', 'platelets', 'serum_creatinine', 'serum_sodium', 'sex', 'smoking', 'time', 'DEATH_EVENT']\n"
     ]
    },
    {
     "data": {
      "text/plain": [
       "<matplotlib.axes._subplots.AxesSubplot at 0x7f38ea8a8a10>"
      ]
     },
     "execution_count": 206,
     "metadata": {},
     "output_type": "execute_result"
    },
    {
     "data": {
      "image/png": "[encoded data removed]",
      "text/plain": [
       "<Figure size 1008x504 with 2 Axes>"
      ]
     },
     "metadata": {
      "needs_background": "light"
     },
     "output_type": "display_data"
    }
   ],
   "source": [
    "# plot nilai korelasi antar kolom data\n",
    "plt.figure(figsize=(14,7))\n",
    "sns.heatmap(data.phik_matrix(),\n",
    "            vmin=0,\n",
    "            vmax=1,\n",
    "            annot=True,\n",
    "            cmap='YlGnBu')"
   ]
  },
  {
   "cell_type": "markdown",
   "metadata": {
    "id": "6oVOPxLW3s12"
   },
   "source": [
    "ternyata ditemukan hal-hal yang sangat berpengaruh terhadap keadaan pasien kedepannya meninggal atau tidak meninggal.\n",
    "- wow ini sungguh2 harus dihindari atau diminimalkan yaitu : time, ejection fraction, age, serum creatinine, dan serum sodium.\n",
    "\n",
    "kita akan jelaskan lebih detail pada bagian lainnya."
   ]
  },
  {
   "cell_type": "markdown",
   "metadata": {
    "id": "mXhHrEXz5MGq"
   },
   "source": [
    "### 3. Feature Selection\n",
    "*seleksi feature yang digunakan*"
   ]
  },
  {
   "cell_type": "code",
   "execution_count": 207,
   "metadata": {
    "colab": {
     "base_uri": "https://localhost:8080/",
     "height": 488
    },
    "id": "kjjfzFKl3cS4",
    "outputId": "02fcf896-8c8a-499d-a3fc-52609a5574f8"
   },
   "outputs": [
    {
     "data": {
      "text/html": [
       "\n",
       "  <div id=\"df-48075444-1748-45de-824c-5661ef53efe1\">\n",
       "    <div class=\"colab-df-container\">\n",
       "      <div>\n",
       "<style scoped>\n",
       "    .dataframe tbody tr th:only-of-type {\n",
       "        vertical-align: middle;\n",
       "    }\n",
       "\n",
       "    .dataframe tbody tr th {\n",
       "        vertical-align: top;\n",
       "    }\n",
       "\n",
       "    .dataframe thead th {\n",
       "        text-align: right;\n",
       "    }\n",
       "</style>\n",
       "<table border=\"1\" class=\"dataframe\">\n",
       "  <thead>\n",
       "    <tr style=\"text-align: right;\">\n",
       "      <th></th>\n",
       "      <th>age</th>\n",
       "      <th>ejection_fraction</th>\n",
       "      <th>serum_creatinine</th>\n",
       "      <th>serum_sodium</th>\n",
       "      <th>time</th>\n",
       "      <th>DEATH_EVENT</th>\n",
       "    </tr>\n",
       "  </thead>\n",
       "  <tbody>\n",
       "    <tr>\n",
       "      <th>188</th>\n",
       "      <td>55.0</td>\n",
       "      <td>35</td>\n",
       "      <td>1.0</td>\n",
       "      <td>140</td>\n",
       "      <td>206</td>\n",
       "      <td>0</td>\n",
       "    </tr>\n",
       "    <tr>\n",
       "      <th>195</th>\n",
       "      <td>60.0</td>\n",
       "      <td>35</td>\n",
       "      <td>1.4</td>\n",
       "      <td>139</td>\n",
       "      <td>258</td>\n",
       "      <td>0</td>\n",
       "    </tr>\n",
       "    <tr>\n",
       "      <th>191</th>\n",
       "      <td>40.0</td>\n",
       "      <td>35</td>\n",
       "      <td>1.0</td>\n",
       "      <td>142</td>\n",
       "      <td>214</td>\n",
       "      <td>0</td>\n",
       "    </tr>\n",
       "    <tr>\n",
       "      <th>205</th>\n",
       "      <td>60.0</td>\n",
       "      <td>38</td>\n",
       "      <td>0.6</td>\n",
       "      <td>138</td>\n",
       "      <td>40</td>\n",
       "      <td>1</td>\n",
       "    </tr>\n",
       "    <tr>\n",
       "      <th>50</th>\n",
       "      <td>67.0</td>\n",
       "      <td>38</td>\n",
       "      <td>1.2</td>\n",
       "      <td>133</td>\n",
       "      <td>245</td>\n",
       "      <td>0</td>\n",
       "    </tr>\n",
       "    <tr>\n",
       "      <th>...</th>\n",
       "      <td>...</td>\n",
       "      <td>...</td>\n",
       "      <td>...</td>\n",
       "      <td>...</td>\n",
       "      <td>...</td>\n",
       "      <td>...</td>\n",
       "    </tr>\n",
       "    <tr>\n",
       "      <th>236</th>\n",
       "      <td>78.0</td>\n",
       "      <td>40</td>\n",
       "      <td>0.7</td>\n",
       "      <td>137</td>\n",
       "      <td>187</td>\n",
       "      <td>0</td>\n",
       "    </tr>\n",
       "    <tr>\n",
       "      <th>282</th>\n",
       "      <td>53.0</td>\n",
       "      <td>60</td>\n",
       "      <td>0.7</td>\n",
       "      <td>133</td>\n",
       "      <td>134</td>\n",
       "      <td>0</td>\n",
       "    </tr>\n",
       "    <tr>\n",
       "      <th>89</th>\n",
       "      <td>60.0</td>\n",
       "      <td>60</td>\n",
       "      <td>0.7</td>\n",
       "      <td>136</td>\n",
       "      <td>94</td>\n",
       "      <td>0</td>\n",
       "    </tr>\n",
       "    <tr>\n",
       "      <th>243</th>\n",
       "      <td>70.0</td>\n",
       "      <td>45</td>\n",
       "      <td>1.3</td>\n",
       "      <td>136</td>\n",
       "      <td>26</td>\n",
       "      <td>1</td>\n",
       "    </tr>\n",
       "    <tr>\n",
       "      <th>80</th>\n",
       "      <td>50.0</td>\n",
       "      <td>50</td>\n",
       "      <td>0.6</td>\n",
       "      <td>134</td>\n",
       "      <td>172</td>\n",
       "      <td>1</td>\n",
       "    </tr>\n",
       "  </tbody>\n",
       "</table>\n",
       "<p>202 rows × 6 columns</p>\n",
       "</div>\n",
       "      <button class=\"colab-df-convert\" onclick=\"convertToInteractive('df-48075444-1748-45de-824c-5661ef53efe1')\"\n",
       "              title=\"Convert this dataframe to an interactive table.\"\n",
       "              style=\"display:none;\">\n",
       "        \n",
       "  <svg xmlns=\"http://www.w3.org/2000/svg\" height=\"24px\"viewBox=\"0 0 24 24\"\n",
       "       width=\"24px\">\n",
       "    <path d=\"M0 0h24v24H0V0z\" fill=\"none\"/>\n",
       "    <path d=\"M18.56 5.44l.94 2.06.94-2.06 2.06-.94-2.06-.94-.94-2.06-.94 2.06-2.06.94zm-11 1L8.5 8.5l.94-2.06 2.06-.94-2.06-.94L8.5 2.5l-.94 2.06-2.06.94zm10 10l.94 2.06.94-2.06 2.06-.94-2.06-.94-.94-2.06-.94 2.06-2.06.94z\"/><path d=\"M17.41 7.96l-1.37-1.37c-.4-.4-.92-.59-1.43-.59-.52 0-1.04.2-1.43.59L10.3 9.45l-7.72 7.72c-.78.78-.78 2.05 0 2.83L4 21.41c.39.39.9.59 1.41.59.51 0 1.02-.2 1.41-.59l7.78-7.78 2.81-2.81c.8-.78.8-2.07 0-2.86zM5.41 20L4 18.59l7.72-7.72 1.47 1.35L5.41 20z\"/>\n",
       "  </svg>\n",
       "      </button>\n",
       "      \n",
       "  <style>\n",
       "    .colab-df-container {\n",
       "      display:flex;\n",
       "      flex-wrap:wrap;\n",
       "      gap: 12px;\n",
       "    }\n",
       "\n",
       "    .colab-df-convert {\n",
       "      background-color: #E8F0FE;\n",
       "      border: none;\n",
       "      border-radius: 50%;\n",
       "      cursor: pointer;\n",
       "      display: none;\n",
       "      fill: #1967D2;\n",
       "      height: 32px;\n",
       "      padding: 0 0 0 0;\n",
       "      width: 32px;\n",
       "    }\n",
       "\n",
       "    .colab-df-convert:hover {\n",
       "      background-color: #E2EBFA;\n",
       "      box-shadow: 0px 1px 2px rgba(60, 64, 67, 0.3), 0px 1px 3px 1px rgba(60, 64, 67, 0.15);\n",
       "      fill: #174EA6;\n",
       "    }\n",
       "\n",
       "    [theme=dark] .colab-df-convert {\n",
       "      background-color: #3B4455;\n",
       "      fill: #D2E3FC;\n",
       "    }\n",
       "\n",
       "    [theme=dark] .colab-df-convert:hover {\n",
       "      background-color: #434B5C;\n",
       "      box-shadow: 0px 1px 3px 1px rgba(0, 0, 0, 0.15);\n",
       "      filter: drop-shadow(0px 1px 2px rgba(0, 0, 0, 0.3));\n",
       "      fill: #FFFFFF;\n",
       "    }\n",
       "  </style>\n",
       "\n",
       "      <script>\n",
       "        const buttonEl =\n",
       "          document.querySelector('#df-48075444-1748-45de-824c-5661ef53efe1 button.colab-df-convert');\n",
       "        buttonEl.style.display =\n",
       "          google.colab.kernel.accessAllowed ? 'block' : 'none';\n",
       "\n",
       "        async function convertToInteractive(key) {\n",
       "          const element = document.querySelector('#df-48075444-1748-45de-824c-5661ef53efe1');\n",
       "          const dataTable =\n",
       "            await google.colab.kernel.invokeFunction('convertToInteractive',\n",
       "                                                     [key], {});\n",
       "          if (!dataTable) return;\n",
       "\n",
       "          const docLinkHtml = 'Like what you see? Visit the ' +\n",
       "            '<a target=\"_blank\" href=https://colab.research.google.com/notebooks/data_table.ipynb>data table notebook</a>'\n",
       "            + ' to learn more about interactive tables.';\n",
       "          element.innerHTML = '';\n",
       "          dataTable['output_type'] = 'display_data';\n",
       "          await google.colab.output.renderOutput(dataTable, element);\n",
       "          const docLink = document.createElement('div');\n",
       "          docLink.innerHTML = docLinkHtml;\n",
       "          element.appendChild(docLink);\n",
       "        }\n",
       "      </script>\n",
       "    </div>\n",
       "  </div>\n",
       "  "
      ],
      "text/plain": [
       "      age  ejection_fraction  serum_creatinine  serum_sodium  time  \\\n",
       "188  55.0                 35               1.0           140   206   \n",
       "195  60.0                 35               1.4           139   258   \n",
       "191  40.0                 35               1.0           142   214   \n",
       "205  60.0                 38               0.6           138    40   \n",
       "50   67.0                 38               1.2           133   245   \n",
       "..    ...                ...               ...           ...   ...   \n",
       "236  78.0                 40               0.7           137   187   \n",
       "282  53.0                 60               0.7           133   134   \n",
       "89   60.0                 60               0.7           136    94   \n",
       "243  70.0                 45               1.3           136    26   \n",
       "80   50.0                 50               0.6           134   172   \n",
       "\n",
       "     DEATH_EVENT  \n",
       "188            0  \n",
       "195            0  \n",
       "191            0  \n",
       "205            1  \n",
       "50             0  \n",
       "..           ...  \n",
       "236            0  \n",
       "282            0  \n",
       "89             0  \n",
       "243            1  \n",
       "80             1  \n",
       "\n",
       "[202 rows x 6 columns]"
      ]
     },
     "execution_count": 207,
     "metadata": {},
     "output_type": "execute_result"
    }
   ],
   "source": [
    "# seleksi feature yang digunakan berdasarkan korelasinya\n",
    "df_train = train[['age', 'ejection_fraction', 'serum_creatinine', 'serum_sodium', 'time', 'DEATH_EVENT']]\n",
    "df_test = test[['age', 'ejection_fraction', 'serum_creatinine', 'serum_sodium', 'time', 'DEATH_EVENT']]\n",
    "df_train"
   ]
  },
  {
   "cell_type": "markdown",
   "metadata": {
    "id": "8J4HOmq56KNd"
   },
   "source": [
    "### 4. Checking outlier"
   ]
  },
  {
   "cell_type": "code",
   "execution_count": 208,
   "metadata": {
    "id": "1xJUNE5o5rhj"
   },
   "outputs": [],
   "source": [
    "# membuat fungsi untuk menampilkan histplot dan boxplot\n",
    "def diagnostic_plots(data, feature):\n",
    "    plt.figure(figsize=(16,4))\n",
    "\n",
    "    plt.subplot(1, 2, 1)\n",
    "    sns.histplot(data[feature])\n",
    "    plt.title('Histogram')\n",
    "\n",
    "    plt.subplot(1, 2, 2)\n",
    "    sns.boxplot(y=data[feature])\n",
    "    plt.title('Boxplot')\n",
    "\n",
    "    plt.show()"
   ]
  },
  {
   "cell_type": "code",
   "execution_count": 209,
   "metadata": {
    "colab": {
     "base_uri": "https://localhost:8080/",
     "height": 238
    },
    "id": "t-vQw-0X6OoV",
    "outputId": "ea90116b-5c21-452c-f3bd-cdbd367e70e6"
   },
   "outputs": [
    {
     "data": {
      "image/png": "[encoded data removed]",
      "text/plain": [
       "<Figure size 1152x288 with 2 Axes>"
      ]
     },
     "metadata": {
      "needs_background": "light"
     },
     "output_type": "display_data"
    },
    {
     "name": "stdout",
     "output_type": "stream",
     "text": [
      "\n",
      "Nilai Skewness:  0.4276168955020809\n"
     ]
    }
   ],
   "source": [
    "# histogram dan boxplot kolom age\n",
    "\n",
    "diagnostic_plots(df_train, 'age')\n",
    "print('\\nNilai Skewness: ', df_train['age'].skew())"
   ]
  },
  {
   "cell_type": "code",
   "execution_count": 210,
   "metadata": {
    "colab": {
     "base_uri": "https://localhost:8080/",
     "height": 238
    },
    "id": "cOXWTA7D6VVM",
    "outputId": "9cb87400-6e7d-4c4a-8cf3-81734e80dd94"
   },
   "outputs": [
    {
     "data": {
      "image/png": "[encoded data removed]",
      "text/plain": [
       "<Figure size 1152x288 with 2 Axes>"
      ]
     },
     "metadata": {
      "needs_background": "light"
     },
     "output_type": "display_data"
    },
    {
     "name": "stdout",
     "output_type": "stream",
     "text": [
      "\n",
      "Nilai Skewness:  0.4462761391888138\n"
     ]
    }
   ],
   "source": [
    "# histogram dan boxplot kolom ejection_fraction\n",
    "\n",
    "diagnostic_plots(df_train, 'ejection_fraction')\n",
    "print('\\nNilai Skewness: ', df_train['ejection_fraction'].skew())"
   ]
  },
  {
   "cell_type": "code",
   "execution_count": 211,
   "metadata": {
    "colab": {
     "base_uri": "https://localhost:8080/",
     "height": 238
    },
    "id": "Rc8uUlVi6dn5",
    "outputId": "5b5bf2a5-e59f-450a-e350-21d36309d5f8"
   },
   "outputs": [
    {
     "data": {
      "image/png": "[encoded data removed]",
      "text/plain": [
       "<Figure size 1152x288 with 2 Axes>"
      ]
     },
     "metadata": {
      "needs_background": "light"
     },
     "output_type": "display_data"
    },
    {
     "name": "stdout",
     "output_type": "stream",
     "text": [
      "\n",
      "Nilai Skewness:  4.4415800036028275\n"
     ]
    }
   ],
   "source": [
    "# histogram dan boxplot kolom serum_creatinine\n",
    "\n",
    "diagnostic_plots(df_train, 'serum_creatinine')\n",
    "print('\\nNilai Skewness: ', df_train['serum_creatinine'].skew())"
   ]
  },
  {
   "cell_type": "code",
   "execution_count": 212,
   "metadata": {
    "colab": {
     "base_uri": "https://localhost:8080/",
     "height": 238
    },
    "id": "T_FZn5FO6qtX",
    "outputId": "f0625ca0-9394-4f07-e333-444949e723cf"
   },
   "outputs": [
    {
     "data": {
      "image/png": "[encoded data removed]",
      "text/plain": [
       "<Figure size 1152x288 with 2 Axes>"
      ]
     },
     "metadata": {
      "needs_background": "light"
     },
     "output_type": "display_data"
    },
    {
     "name": "stdout",
     "output_type": "stream",
     "text": [
      "\n",
      "Nilai Skewness:  -0.7065550272390841\n"
     ]
    }
   ],
   "source": [
    "# histogram dan boxplot kolom serum_sodium\n",
    "\n",
    "diagnostic_plots(df_train, 'serum_sodium')\n",
    "print('\\nNilai Skewness: ', df_train['serum_sodium'].skew())"
   ]
  },
  {
   "cell_type": "code",
   "execution_count": 213,
   "metadata": {
    "colab": {
     "base_uri": "https://localhost:8080/",
     "height": 238
    },
    "id": "YKl3EXck66Qo",
    "outputId": "650414fd-b48b-4f75-bb9c-1d1eb4e6b269"
   },
   "outputs": [
    {
     "data": {
      "image/png": "[encoded data removed]",
      "text/plain": [
       "<Figure size 1152x288 with 2 Axes>"
      ]
     },
     "metadata": {
      "needs_background": "light"
     },
     "output_type": "display_data"
    },
    {
     "name": "stdout",
     "output_type": "stream",
     "text": [
      "\n",
      "Nilai Skewness:  0.21452655661108885\n"
     ]
    }
   ],
   "source": [
    "# histogram dan boxplot kolom time\n",
    "\n",
    "diagnostic_plots(df_train, 'time')\n",
    "print('\\nNilai Skewness: ', df_train['time'].skew())"
   ]
  },
  {
   "cell_type": "markdown",
   "metadata": {
    "id": "s9ng_ky8Rr09"
   },
   "source": [
    "tidak ditemukan outlier pada feature age dan time.\n",
    "\n",
    "untuk feature ejection fraction, serum creatinine, serum sodium. akan dilakukan capping dengan tujuan agar data yang dibaca model tetap  bervariatif dan agar jumlah datanya cukup untuk model belajar"
   ]
  },
  {
   "cell_type": "markdown",
   "metadata": {
    "id": "TcGvBlMoAdMD"
   },
   "source": [
    "### 4. Handing Outlier"
   ]
  },
  {
   "cell_type": "code",
   "execution_count": 214,
   "metadata": {
    "id": "21VKsN0B7I0w"
   },
   "outputs": [],
   "source": [
    "# fungsi untuk mencari batas atas dan bawah untuk outliers\n",
    "\n",
    "def find_normal_bound(data, feature):\n",
    "    normal_lower_bound = data[feature].mean() - 3 * data[feature].std()\n",
    "    normal_upper_bound = data[feature].mean() + 3 * data[feature].std()\n",
    "\n",
    "    return normal_lower_bound, normal_upper_bound\n",
    "\n",
    "def find_skew_bound(data, feature, cons):\n",
    "    IQR = data[feature].quantile(0.75) - data[feature].quantile(0.25)\n",
    "\n",
    "    skew_lower_bound = data[feature].quantile(0.25) - (IQR * cons)\n",
    "    skew_upper_bound = data[feature].quantile(0.75) + (IQR * cons)\n",
    "\n",
    "    return skew_lower_bound, skew_upper_bound"
   ]
  },
  {
   "cell_type": "code",
   "execution_count": 215,
   "metadata": {
    "colab": {
     "base_uri": "https://localhost:8080/"
    },
    "id": "7Geh8fME7J5W",
    "outputId": "4704ef0c-05fb-441b-b26e-ec613af73d3f"
   },
   "outputs": [
    {
     "name": "stdout",
     "output_type": "stream",
     "text": [
      "Batas bawah ejection_fraction: 2.2146535937047105\n",
      "Batas atas ejection_fraction: 75.51801967362202\n",
      "\n",
      "Outliers bawah ejection_fraction : 0\n",
      "Outliers atas ejection_fraction : 1\n"
     ]
    }
   ],
   "source": [
    "# mencari outlier untuk age\n",
    "\n",
    "normal_lower_bound, normal_upper_bound = find_normal_bound(df_train, 'ejection_fraction')\n",
    "normal_lower_bound, normal_upper_bound\n",
    "\n",
    "print('Batas bawah ejection_fraction:',normal_lower_bound)\n",
    "print('Batas atas ejection_fraction:',normal_upper_bound)\n",
    "print('')\n",
    "print('Outliers bawah ejection_fraction : {}'.format(len(df_train[df_train['ejection_fraction'] < normal_lower_bound])))\n",
    "print('Outliers atas ejection_fraction : {}'.format(len(df_train[df_train['ejection_fraction'] > normal_upper_bound])))"
   ]
  },
  {
   "cell_type": "code",
   "execution_count": 216,
   "metadata": {
    "colab": {
     "base_uri": "https://localhost:8080/"
    },
    "id": "NtCmBQk67Nvu",
    "outputId": "83358649-c48b-4d1e-a5e0-894eb3675e38"
   },
   "outputs": [
    {
     "name": "stdout",
     "output_type": "stream",
     "text": [
      "Batas bawah serum_creatinine: -2.0250633178945554\n",
      "Batas atas serum_creatinine: 4.854073218884655\n",
      "\n",
      "Outliers bawah serum_creatinine : 0\n",
      "Outliers atas serum_creatinine : 5\n"
     ]
    }
   ],
   "source": [
    "# mencari outlier untuk age\n",
    "\n",
    "normal_lower_bound, normal_upper_bound = find_normal_bound(df_train, 'serum_creatinine')\n",
    "normal_lower_bound, normal_upper_bound\n",
    "\n",
    "print('Batas bawah serum_creatinine:',normal_lower_bound)\n",
    "print('Batas atas serum_creatinine:',normal_upper_bound)\n",
    "print('')\n",
    "print('Outliers bawah serum_creatinine : {}'.format(len(df_train[df_train['serum_creatinine'] < normal_lower_bound])))\n",
    "print('Outliers atas serum_creatinine : {}'.format(len(df_train[df_train['serum_creatinine'] > normal_upper_bound])))"
   ]
  },
  {
   "cell_type": "code",
   "execution_count": 217,
   "metadata": {
    "colab": {
     "base_uri": "https://localhost:8080/"
    },
    "id": "NxzHYjAQ733q",
    "outputId": "67114309-d7fb-4085-936c-41e93a8196a1"
   },
   "outputs": [
    {
     "name": "stdout",
     "output_type": "stream",
     "text": [
      "Batas bawah serum_sodium: 122.88465007234589\n",
      "Batas atas serum_sodium: 150.26386477913928\n",
      "\n",
      "Outliers bawah serum_sodium : 2\n",
      "Outliers atas serum_sodium : 0\n"
     ]
    }
   ],
   "source": [
    "# mencari outlier untuk age\n",
    "\n",
    "normal_lower_bound, normal_upper_bound = find_normal_bound(df_train, 'serum_sodium')\n",
    "normal_lower_bound, normal_upper_bound\n",
    "\n",
    "print('Batas bawah serum_sodium:',normal_lower_bound)\n",
    "print('Batas atas serum_sodium:',normal_upper_bound)\n",
    "print('')\n",
    "print('Outliers bawah serum_sodium : {}'.format(len(df_train[df_train['serum_sodium'] < normal_lower_bound])))\n",
    "print('Outliers atas serum_sodium : {}'.format(len(df_train[df_train['serum_sodium'] > normal_upper_bound])))"
   ]
  },
  {
   "cell_type": "markdown",
   "metadata": {
    "id": "ChyXLsrDSPIF"
   },
   "source": [
    "total outlier data ada 8"
   ]
  },
  {
   "cell_type": "markdown",
   "metadata": {
    "id": "Niyko_WTS595"
   },
   "source": [
    "- motode capping yang digunakan adalah winsorizer"
   ]
  },
  {
   "cell_type": "code",
   "execution_count": 218,
   "metadata": {
    "id": "KZUAo4wn8CZk"
   },
   "outputs": [],
   "source": [
    "# memasukan fungsi winsorizer\n",
    "# dan langsung dihandling pada df train test\n",
    "capper_normal = Winsorizer(capping_method='gaussian', tail='both', fold=3, variables=['age', 'serum_creatinine', 'serum_sodium'])\n",
    "capper_normal.fit(df_train)\n",
    "df_train_clean = capper_normal.transform(df_train)\n",
    "df_test_clean = capper_normal.transform(df_test)"
   ]
  },
  {
   "cell_type": "code",
   "execution_count": 219,
   "metadata": {
    "colab": {
     "base_uri": "https://localhost:8080/"
    },
    "id": "L43dDAZA9kQ6",
    "outputId": "74521d27-ede3-421a-d2c4-647ff4484d6e"
   },
   "outputs": [
    {
     "name": "stdout",
     "output_type": "stream",
     "text": [
      "train - Sebelum Capping\n",
      "              age  serum_creatinine  serum_sodium\n",
      "count  202.000000        202.000000    202.000000\n",
      "mean    61.518153          1.414505    136.574257\n",
      "std     12.379745          1.146523      4.563202\n",
      "min     40.000000          0.600000    116.000000\n",
      "25%     52.250000          0.900000    134.000000\n",
      "50%     60.000000          1.100000    137.000000\n",
      "75%     70.000000          1.400000    140.000000\n",
      "max     95.000000          9.400000    148.000000\n",
      "\n",
      "train - Setelah Capping\n",
      "              age  serum_creatinine  serum_sodium\n",
      "count  202.000000        202.000000    202.000000\n",
      "mean    61.518153          1.354952    136.617670\n",
      "std     12.379745          0.827191      4.401469\n",
      "min     40.000000          0.600000    122.884650\n",
      "25%     52.250000          0.900000    134.000000\n",
      "50%     60.000000          1.100000    137.000000\n",
      "75%     70.000000          1.400000    140.000000\n",
      "max     95.000000          4.854073    148.000000\n"
     ]
    }
   ],
   "source": [
    "# menampilkan info sebelum dan setelah capping\n",
    "print('train - Sebelum Capping')\n",
    "print(df_train[['age', 'serum_creatinine', 'serum_sodium']].describe())\n",
    "print('')\n",
    "print('train - Setelah Capping')\n",
    "print(df_train_clean[['age', 'serum_creatinine', 'serum_sodium']].describe())"
   ]
  },
  {
   "cell_type": "markdown",
   "metadata": {
    "id": "03Ckkdy7TbrD"
   },
   "source": [
    "angka-angka nya tidak begitu berbeda signifikan ini sesuai yang diinginkan penulis agar data tetap terlihat real"
   ]
  },
  {
   "cell_type": "markdown",
   "metadata": {
    "id": "3XH-HsnwAqsn"
   },
   "source": [
    "### 6. Split Feature dan Target"
   ]
  },
  {
   "cell_type": "code",
   "execution_count": 220,
   "metadata": {
    "id": "P8FT62q2Asu2"
   },
   "outputs": [],
   "source": [
    "# melakukan pemisahan antara data feature dan target predict\n",
    "X_train = df_train_clean.drop(columns='DEATH_EVENT')\n",
    "y_train = df_train_clean['DEATH_EVENT']\n",
    "\n",
    "X_test = df_test_clean.drop(columns='DEATH_EVENT')\n",
    "y_test = df_test_clean['DEATH_EVENT']"
   ]
  },
  {
   "cell_type": "code",
   "execution_count": 221,
   "metadata": {
    "colab": {
     "base_uri": "https://localhost:8080/",
     "height": 424
    },
    "id": "T-HeX8m9CKoZ",
    "outputId": "13a14db8-8719-42c5-c956-ae134f8da57e"
   },
   "outputs": [
    {
     "data": {
      "text/html": [
       "\n",
       "  <div id=\"df-0b836ec4-925f-48ef-9949-9aa280f7f699\">\n",
       "    <div class=\"colab-df-container\">\n",
       "      <div>\n",
       "<style scoped>\n",
       "    .dataframe tbody tr th:only-of-type {\n",
       "        vertical-align: middle;\n",
       "    }\n",
       "\n",
       "    .dataframe tbody tr th {\n",
       "        vertical-align: top;\n",
       "    }\n",
       "\n",
       "    .dataframe thead th {\n",
       "        text-align: right;\n",
       "    }\n",
       "</style>\n",
       "<table border=\"1\" class=\"dataframe\">\n",
       "  <thead>\n",
       "    <tr style=\"text-align: right;\">\n",
       "      <th></th>\n",
       "      <th>age</th>\n",
       "      <th>ejection_fraction</th>\n",
       "      <th>serum_creatinine</th>\n",
       "      <th>serum_sodium</th>\n",
       "      <th>time</th>\n",
       "    </tr>\n",
       "  </thead>\n",
       "  <tbody>\n",
       "    <tr>\n",
       "      <th>188</th>\n",
       "      <td>55.0</td>\n",
       "      <td>35</td>\n",
       "      <td>1.0</td>\n",
       "      <td>140.0</td>\n",
       "      <td>206</td>\n",
       "    </tr>\n",
       "    <tr>\n",
       "      <th>195</th>\n",
       "      <td>60.0</td>\n",
       "      <td>35</td>\n",
       "      <td>1.4</td>\n",
       "      <td>139.0</td>\n",
       "      <td>258</td>\n",
       "    </tr>\n",
       "    <tr>\n",
       "      <th>191</th>\n",
       "      <td>40.0</td>\n",
       "      <td>35</td>\n",
       "      <td>1.0</td>\n",
       "      <td>142.0</td>\n",
       "      <td>214</td>\n",
       "    </tr>\n",
       "    <tr>\n",
       "      <th>205</th>\n",
       "      <td>60.0</td>\n",
       "      <td>38</td>\n",
       "      <td>0.6</td>\n",
       "      <td>138.0</td>\n",
       "      <td>40</td>\n",
       "    </tr>\n",
       "    <tr>\n",
       "      <th>50</th>\n",
       "      <td>67.0</td>\n",
       "      <td>38</td>\n",
       "      <td>1.2</td>\n",
       "      <td>133.0</td>\n",
       "      <td>245</td>\n",
       "    </tr>\n",
       "    <tr>\n",
       "      <th>...</th>\n",
       "      <td>...</td>\n",
       "      <td>...</td>\n",
       "      <td>...</td>\n",
       "      <td>...</td>\n",
       "      <td>...</td>\n",
       "    </tr>\n",
       "    <tr>\n",
       "      <th>236</th>\n",
       "      <td>78.0</td>\n",
       "      <td>40</td>\n",
       "      <td>0.7</td>\n",
       "      <td>137.0</td>\n",
       "      <td>187</td>\n",
       "    </tr>\n",
       "    <tr>\n",
       "      <th>282</th>\n",
       "      <td>53.0</td>\n",
       "      <td>60</td>\n",
       "      <td>0.7</td>\n",
       "      <td>133.0</td>\n",
       "      <td>134</td>\n",
       "    </tr>\n",
       "    <tr>\n",
       "      <th>89</th>\n",
       "      <td>60.0</td>\n",
       "      <td>60</td>\n",
       "      <td>0.7</td>\n",
       "      <td>136.0</td>\n",
       "      <td>94</td>\n",
       "    </tr>\n",
       "    <tr>\n",
       "      <th>243</th>\n",
       "      <td>70.0</td>\n",
       "      <td>45</td>\n",
       "      <td>1.3</td>\n",
       "      <td>136.0</td>\n",
       "      <td>26</td>\n",
       "    </tr>\n",
       "    <tr>\n",
       "      <th>80</th>\n",
       "      <td>50.0</td>\n",
       "      <td>50</td>\n",
       "      <td>0.6</td>\n",
       "      <td>134.0</td>\n",
       "      <td>172</td>\n",
       "    </tr>\n",
       "  </tbody>\n",
       "</table>\n",
       "<p>202 rows × 5 columns</p>\n",
       "</div>\n",
       "      <button class=\"colab-df-convert\" onclick=\"convertToInteractive('df-0b836ec4-925f-48ef-9949-9aa280f7f699')\"\n",
       "              title=\"Convert this dataframe to an interactive table.\"\n",
       "              style=\"display:none;\">\n",
       "        \n",
       "  <svg xmlns=\"http://www.w3.org/2000/svg\" height=\"24px\"viewBox=\"0 0 24 24\"\n",
       "       width=\"24px\">\n",
       "    <path d=\"M0 0h24v24H0V0z\" fill=\"none\"/>\n",
       "    <path d=\"M18.56 5.44l.94 2.06.94-2.06 2.06-.94-2.06-.94-.94-2.06-.94 2.06-2.06.94zm-11 1L8.5 8.5l.94-2.06 2.06-.94-2.06-.94L8.5 2.5l-.94 2.06-2.06.94zm10 10l.94 2.06.94-2.06 2.06-.94-2.06-.94-.94-2.06-.94 2.06-2.06.94z\"/><path d=\"M17.41 7.96l-1.37-1.37c-.4-.4-.92-.59-1.43-.59-.52 0-1.04.2-1.43.59L10.3 9.45l-7.72 7.72c-.78.78-.78 2.05 0 2.83L4 21.41c.39.39.9.59 1.41.59.51 0 1.02-.2 1.41-.59l7.78-7.78 2.81-2.81c.8-.78.8-2.07 0-2.86zM5.41 20L4 18.59l7.72-7.72 1.47 1.35L5.41 20z\"/>\n",
       "  </svg>\n",
       "      </button>\n",
       "      \n",
       "  <style>\n",
       "    .colab-df-container {\n",
       "      display:flex;\n",
       "      flex-wrap:wrap;\n",
       "      gap: 12px;\n",
       "    }\n",
       "\n",
       "    .colab-df-convert {\n",
       "      background-color: #E8F0FE;\n",
       "      border: none;\n",
       "      border-radius: 50%;\n",
       "      cursor: pointer;\n",
       "      display: none;\n",
       "      fill: #1967D2;\n",
       "      height: 32px;\n",
       "      padding: 0 0 0 0;\n",
       "      width: 32px;\n",
       "    }\n",
       "\n",
       "    .colab-df-convert:hover {\n",
       "      background-color: #E2EBFA;\n",
       "      box-shadow: 0px 1px 2px rgba(60, 64, 67, 0.3), 0px 1px 3px 1px rgba(60, 64, 67, 0.15);\n",
       "      fill: #174EA6;\n",
       "    }\n",
       "\n",
       "    [theme=dark] .colab-df-convert {\n",
       "      background-color: #3B4455;\n",
       "      fill: #D2E3FC;\n",
       "    }\n",
       "\n",
       "    [theme=dark] .colab-df-convert:hover {\n",
       "      background-color: #434B5C;\n",
       "      box-shadow: 0px 1px 3px 1px rgba(0, 0, 0, 0.15);\n",
       "      filter: drop-shadow(0px 1px 2px rgba(0, 0, 0, 0.3));\n",
       "      fill: #FFFFFF;\n",
       "    }\n",
       "  </style>\n",
       "\n",
       "      <script>\n",
       "        const buttonEl =\n",
       "          document.querySelector('#df-0b836ec4-925f-48ef-9949-9aa280f7f699 button.colab-df-convert');\n",
       "        buttonEl.style.display =\n",
       "          google.colab.kernel.accessAllowed ? 'block' : 'none';\n",
       "\n",
       "        async function convertToInteractive(key) {\n",
       "          const element = document.querySelector('#df-0b836ec4-925f-48ef-9949-9aa280f7f699');\n",
       "          const dataTable =\n",
       "            await google.colab.kernel.invokeFunction('convertToInteractive',\n",
       "                                                     [key], {});\n",
       "          if (!dataTable) return;\n",
       "\n",
       "          const docLinkHtml = 'Like what you see? Visit the ' +\n",
       "            '<a target=\"_blank\" href=https://colab.research.google.com/notebooks/data_table.ipynb>data table notebook</a>'\n",
       "            + ' to learn more about interactive tables.';\n",
       "          element.innerHTML = '';\n",
       "          dataTable['output_type'] = 'display_data';\n",
       "          await google.colab.output.renderOutput(dataTable, element);\n",
       "          const docLink = document.createElement('div');\n",
       "          docLink.innerHTML = docLinkHtml;\n",
       "          element.appendChild(docLink);\n",
       "        }\n",
       "      </script>\n",
       "    </div>\n",
       "  </div>\n",
       "  "
      ],
      "text/plain": [
       "      age  ejection_fraction  serum_creatinine  serum_sodium  time\n",
       "188  55.0                 35               1.0         140.0   206\n",
       "195  60.0                 35               1.4         139.0   258\n",
       "191  40.0                 35               1.0         142.0   214\n",
       "205  60.0                 38               0.6         138.0    40\n",
       "50   67.0                 38               1.2         133.0   245\n",
       "..    ...                ...               ...           ...   ...\n",
       "236  78.0                 40               0.7         137.0   187\n",
       "282  53.0                 60               0.7         133.0   134\n",
       "89   60.0                 60               0.7         136.0    94\n",
       "243  70.0                 45               1.3         136.0    26\n",
       "80   50.0                 50               0.6         134.0   172\n",
       "\n",
       "[202 rows x 5 columns]"
      ]
     },
     "execution_count": 221,
     "metadata": {},
     "output_type": "execute_result"
    }
   ],
   "source": [
    "# menampilkan X_train\n",
    "X_train"
   ]
  },
  {
   "cell_type": "markdown",
   "metadata": {
    "id": "4VoB1ZOkBILd"
   },
   "source": [
    "### 7. Handling imbalance data"
   ]
  },
  {
   "cell_type": "code",
   "execution_count": 222,
   "metadata": {
    "colab": {
     "base_uri": "https://localhost:8080/",
     "height": 368
    },
    "id": "lbsVDNkaA7DH",
    "outputId": "26ccc500-80b4-42b7-e7cb-ba9525daa472"
   },
   "outputs": [
    {
     "name": "stderr",
     "output_type": "stream",
     "text": [
      "/usr/local/lib/python3.7/dist-packages/seaborn/_decorators.py:43: FutureWarning: Pass the following variable as a keyword arg: x. From version 0.12, the only valid positional argument will be `data`, and passing other arguments without an explicit keyword will result in an error or misinterpretation.\n",
      "  FutureWarning\n"
     ]
    },
    {
     "data": {
      "text/plain": [
       "Text(0.5, 1.0, 'Target Imbalanced')"
      ]
     },
     "execution_count": 222,
     "metadata": {},
     "output_type": "execute_result"
    },
    {
     "data": {
      "image/png": "[encoded data removed]",
      "text/plain": [
       "<Figure size 432x288 with 1 Axes>"
      ]
     },
     "metadata": {
      "needs_background": "light"
     },
     "output_type": "display_data"
    }
   ],
   "source": [
    "# menampilkan barplot data target\n",
    "y_train.value_counts()\n",
    "sns.countplot(y_train ,palette='viridis')\n",
    "plt.title('Target Imbalanced')"
   ]
  },
  {
   "cell_type": "code",
   "execution_count": 223,
   "metadata": {
    "colab": {
     "base_uri": "https://localhost:8080/"
    },
    "id": "yE6eNSS4BNgJ",
    "outputId": "660bbff6-d6c0-41e0-bfa5-34032e4246b4"
   },
   "outputs": [
    {
     "name": "stdout",
     "output_type": "stream",
     "text": [
      "(262, 5) (262,)\n"
     ]
    }
   ],
   "source": [
    "# handling data imbalance pada data train\n",
    "smote = SMOTE(sampling_strategy='minority')\n",
    "X_train ,y_train = smote.fit_resample(X_train ,y_train)\n",
    "\n",
    "print(X_train.shape ,y_train.shape)"
   ]
  },
  {
   "cell_type": "code",
   "execution_count": 224,
   "metadata": {
    "colab": {
     "base_uri": "https://localhost:8080/",
     "height": 368
    },
    "id": "vBTRmm8JB4rs",
    "outputId": "5eecaf4a-5622-40d6-cf23-b27b70b7b806"
   },
   "outputs": [
    {
     "name": "stderr",
     "output_type": "stream",
     "text": [
      "/usr/local/lib/python3.7/dist-packages/seaborn/_decorators.py:43: FutureWarning: Pass the following variable as a keyword arg: x. From version 0.12, the only valid positional argument will be `data`, and passing other arguments without an explicit keyword will result in an error or misinterpretation.\n",
      "  FutureWarning\n"
     ]
    },
    {
     "data": {
      "text/plain": [
       "Text(0.5, 1.0, 'Target Balanced')"
      ]
     },
     "execution_count": 224,
     "metadata": {},
     "output_type": "execute_result"
    },
    {
     "data": {
      "image/png": "[encoded data removed]",
      "text/plain": [
       "<Figure size 432x288 with 1 Axes>"
      ]
     },
     "metadata": {
      "needs_background": "light"
     },
     "output_type": "display_data"
    }
   ],
   "source": [
    "# menampilkan barplot untuk melihat hasil perubahan\n",
    "y_train.value_counts()\n",
    "sns.countplot(y_train ,palette='viridis')\n",
    "plt.title('Target Balanced')"
   ]
  },
  {
   "cell_type": "markdown",
   "metadata": {
    "id": "rbYvMuYBTzIf"
   },
   "source": [
    "- handling imbalance data telah selesai dilakukan, sebenernya data tidak extream imbalance. oleh karena itu data dapat dibiarkan atau dilakukan balancing\n",
    "- penulis melakukan balancing dengan tujuan untuk aplikatif ilmu yang telah dipelajari"
   ]
  },
  {
   "cell_type": "markdown",
   "metadata": {
    "id": "IRkR4nmgFYF-"
   },
   "source": [
    "### 8. Split kolom numerikal dan kategorikal\n"
   ]
  },
  {
   "cell_type": "code",
   "execution_count": 225,
   "metadata": {
    "colab": {
     "base_uri": "https://localhost:8080/"
    },
    "id": "FxkpExjBFbSA",
    "outputId": "8e1b7aad-7466-4539-8cbe-cfc689191543"
   },
   "outputs": [
    {
     "name": "stdout",
     "output_type": "stream",
     "text": [
      "Kolom numerikal: ['age', 'ejection_fraction', 'serum_creatinine', 'serum_sodium', 'time']\n",
      "Kolom kategorikal: []\n"
     ]
    }
   ],
   "source": [
    "# fungsi untuk memisahkan kolom numerik dengan kolom kategori\n",
    "num_columns = X_train.select_dtypes(include=np.number).columns.to_list()\n",
    "cat_columns = X_train.select_dtypes(include=['object']).columns.to_list()\n",
    "\n",
    "print('Kolom numerikal:', num_columns)\n",
    "print('Kolom kategorikal:', cat_columns)"
   ]
  },
  {
   "cell_type": "code",
   "execution_count": 226,
   "metadata": {
    "id": "lWjyt4zmFvb7"
   },
   "outputs": [],
   "source": [
    "# memisahkan data train dan test berdasarkan tipe data\n",
    "X_train_num = X_train[num_columns]\n",
    "\n",
    "X_test_num = X_test[num_columns]"
   ]
  },
  {
   "cell_type": "markdown",
   "metadata": {
    "id": "VcKKIbk1UZIP"
   },
   "source": [
    "tidak terdapat feature kategorikal"
   ]
  },
  {
   "cell_type": "markdown",
   "metadata": {
    "id": "smxQozbOFkZr"
   },
   "source": [
    "### 9. Feature Scalling"
   ]
  },
  {
   "cell_type": "code",
   "execution_count": 227,
   "metadata": {
    "colab": {
     "base_uri": "https://localhost:8080/"
    },
    "id": "OVD1JkRkFdVK",
    "outputId": "e0100f51-6374-4bac-c341-29996053b303"
   },
   "outputs": [
    {
     "data": {
      "text/plain": [
       "array([[-0.64480476, -0.22092405, -0.51778372,  0.80681989,  1.21747257],\n",
       "       [-0.24794907, -0.22092405, -0.04127283,  0.57823526,  1.89676025],\n",
       "       [-1.83537182, -0.22092405, -0.51778372,  1.26398916,  1.32197837],\n",
       "       ...,\n",
       "       [ 1.30707744, -0.304448  ,  3.77940482, -0.77461265, -1.32985619],\n",
       "       [-0.63592402, -0.13740009, -0.76137078, -0.76769649, -1.02940203],\n",
       "       [-0.48795857, -0.05387614,  1.14431276,  0.29628884, -1.09471815]])"
      ]
     },
     "execution_count": 227,
     "metadata": {},
     "output_type": "execute_result"
    }
   ],
   "source": [
    "# scaling data X_train, X_test pada kolom num menggunakan StandardScaler\n",
    "scaler = StandardScaler()\n",
    "scaler.fit(X_train_num)\n",
    "\n",
    "X_train_final = scaler.transform(X_train_num)\n",
    "X_test_final = scaler.transform(X_test_num)\n",
    "\n",
    "X_train_final"
   ]
  },
  {
   "cell_type": "code",
   "execution_count": 228,
   "metadata": {
    "colab": {
     "base_uri": "https://localhost:8080/",
     "height": 424
    },
    "id": "Wpjqai_2GLMw",
    "outputId": "e8cdb462-d4a7-4adc-87c0-b56c747edbb7"
   },
   "outputs": [
    {
     "data": {
      "text/html": [
       "\n",
       "  <div id=\"df-0a786197-82e7-4461-a83a-4e99e8c6d570\">\n",
       "    <div class=\"colab-df-container\">\n",
       "      <div>\n",
       "<style scoped>\n",
       "    .dataframe tbody tr th:only-of-type {\n",
       "        vertical-align: middle;\n",
       "    }\n",
       "\n",
       "    .dataframe tbody tr th {\n",
       "        vertical-align: top;\n",
       "    }\n",
       "\n",
       "    .dataframe thead th {\n",
       "        text-align: right;\n",
       "    }\n",
       "</style>\n",
       "<table border=\"1\" class=\"dataframe\">\n",
       "  <thead>\n",
       "    <tr style=\"text-align: right;\">\n",
       "      <th></th>\n",
       "      <th>0</th>\n",
       "      <th>1</th>\n",
       "      <th>2</th>\n",
       "      <th>3</th>\n",
       "      <th>4</th>\n",
       "    </tr>\n",
       "  </thead>\n",
       "  <tbody>\n",
       "    <tr>\n",
       "      <th>0</th>\n",
       "      <td>-0.644805</td>\n",
       "      <td>-0.220924</td>\n",
       "      <td>-0.517784</td>\n",
       "      <td>0.806820</td>\n",
       "      <td>1.217473</td>\n",
       "    </tr>\n",
       "    <tr>\n",
       "      <th>1</th>\n",
       "      <td>-0.247949</td>\n",
       "      <td>-0.220924</td>\n",
       "      <td>-0.041273</td>\n",
       "      <td>0.578235</td>\n",
       "      <td>1.896760</td>\n",
       "    </tr>\n",
       "    <tr>\n",
       "      <th>2</th>\n",
       "      <td>-1.835372</td>\n",
       "      <td>-0.220924</td>\n",
       "      <td>-0.517784</td>\n",
       "      <td>1.263989</td>\n",
       "      <td>1.321978</td>\n",
       "    </tr>\n",
       "    <tr>\n",
       "      <th>3</th>\n",
       "      <td>-0.247949</td>\n",
       "      <td>0.029648</td>\n",
       "      <td>-0.994295</td>\n",
       "      <td>0.349651</td>\n",
       "      <td>-0.951023</td>\n",
       "    </tr>\n",
       "    <tr>\n",
       "      <th>4</th>\n",
       "      <td>0.307649</td>\n",
       "      <td>0.029648</td>\n",
       "      <td>-0.279528</td>\n",
       "      <td>-0.793273</td>\n",
       "      <td>1.726938</td>\n",
       "    </tr>\n",
       "    <tr>\n",
       "      <th>...</th>\n",
       "      <td>...</td>\n",
       "      <td>...</td>\n",
       "      <td>...</td>\n",
       "      <td>...</td>\n",
       "      <td>...</td>\n",
       "    </tr>\n",
       "    <tr>\n",
       "      <th>257</th>\n",
       "      <td>0.623313</td>\n",
       "      <td>0.697839</td>\n",
       "      <td>0.116350</td>\n",
       "      <td>1.388845</td>\n",
       "      <td>0.851702</td>\n",
       "    </tr>\n",
       "    <tr>\n",
       "      <th>258</th>\n",
       "      <td>-1.573344</td>\n",
       "      <td>-1.223211</td>\n",
       "      <td>-0.315422</td>\n",
       "      <td>0.784856</td>\n",
       "      <td>-0.650569</td>\n",
       "    </tr>\n",
       "    <tr>\n",
       "      <th>259</th>\n",
       "      <td>1.307077</td>\n",
       "      <td>-0.304448</td>\n",
       "      <td>3.779405</td>\n",
       "      <td>-0.774613</td>\n",
       "      <td>-1.329856</td>\n",
       "    </tr>\n",
       "    <tr>\n",
       "      <th>260</th>\n",
       "      <td>-0.635924</td>\n",
       "      <td>-0.137400</td>\n",
       "      <td>-0.761371</td>\n",
       "      <td>-0.767696</td>\n",
       "      <td>-1.029402</td>\n",
       "    </tr>\n",
       "    <tr>\n",
       "      <th>261</th>\n",
       "      <td>-0.487959</td>\n",
       "      <td>-0.053876</td>\n",
       "      <td>1.144313</td>\n",
       "      <td>0.296289</td>\n",
       "      <td>-1.094718</td>\n",
       "    </tr>\n",
       "  </tbody>\n",
       "</table>\n",
       "<p>262 rows × 5 columns</p>\n",
       "</div>\n",
       "      <button class=\"colab-df-convert\" onclick=\"convertToInteractive('df-0a786197-82e7-4461-a83a-4e99e8c6d570')\"\n",
       "              title=\"Convert this dataframe to an interactive table.\"\n",
       "              style=\"display:none;\">\n",
       "        \n",
       "  <svg xmlns=\"http://www.w3.org/2000/svg\" height=\"24px\"viewBox=\"0 0 24 24\"\n",
       "       width=\"24px\">\n",
       "    <path d=\"M0 0h24v24H0V0z\" fill=\"none\"/>\n",
       "    <path d=\"M18.56 5.44l.94 2.06.94-2.06 2.06-.94-2.06-.94-.94-2.06-.94 2.06-2.06.94zm-11 1L8.5 8.5l.94-2.06 2.06-.94-2.06-.94L8.5 2.5l-.94 2.06-2.06.94zm10 10l.94 2.06.94-2.06 2.06-.94-2.06-.94-.94-2.06-.94 2.06-2.06.94z\"/><path d=\"M17.41 7.96l-1.37-1.37c-.4-.4-.92-.59-1.43-.59-.52 0-1.04.2-1.43.59L10.3 9.45l-7.72 7.72c-.78.78-.78 2.05 0 2.83L4 21.41c.39.39.9.59 1.41.59.51 0 1.02-.2 1.41-.59l7.78-7.78 2.81-2.81c.8-.78.8-2.07 0-2.86zM5.41 20L4 18.59l7.72-7.72 1.47 1.35L5.41 20z\"/>\n",
       "  </svg>\n",
       "      </button>\n",
       "      \n",
       "  <style>\n",
       "    .colab-df-container {\n",
       "      display:flex;\n",
       "      flex-wrap:wrap;\n",
       "      gap: 12px;\n",
       "    }\n",
       "\n",
       "    .colab-df-convert {\n",
       "      background-color: #E8F0FE;\n",
       "      border: none;\n",
       "      border-radius: 50%;\n",
       "      cursor: pointer;\n",
       "      display: none;\n",
       "      fill: #1967D2;\n",
       "      height: 32px;\n",
       "      padding: 0 0 0 0;\n",
       "      width: 32px;\n",
       "    }\n",
       "\n",
       "    .colab-df-convert:hover {\n",
       "      background-color: #E2EBFA;\n",
       "      box-shadow: 0px 1px 2px rgba(60, 64, 67, 0.3), 0px 1px 3px 1px rgba(60, 64, 67, 0.15);\n",
       "      fill: #174EA6;\n",
       "    }\n",
       "\n",
       "    [theme=dark] .colab-df-convert {\n",
       "      background-color: #3B4455;\n",
       "      fill: #D2E3FC;\n",
       "    }\n",
       "\n",
       "    [theme=dark] .colab-df-convert:hover {\n",
       "      background-color: #434B5C;\n",
       "      box-shadow: 0px 1px 3px 1px rgba(0, 0, 0, 0.15);\n",
       "      filter: drop-shadow(0px 1px 2px rgba(0, 0, 0, 0.3));\n",
       "      fill: #FFFFFF;\n",
       "    }\n",
       "  </style>\n",
       "\n",
       "      <script>\n",
       "        const buttonEl =\n",
       "          document.querySelector('#df-0a786197-82e7-4461-a83a-4e99e8c6d570 button.colab-df-convert');\n",
       "        buttonEl.style.display =\n",
       "          google.colab.kernel.accessAllowed ? 'block' : 'none';\n",
       "\n",
       "        async function convertToInteractive(key) {\n",
       "          const element = document.querySelector('#df-0a786197-82e7-4461-a83a-4e99e8c6d570');\n",
       "          const dataTable =\n",
       "            await google.colab.kernel.invokeFunction('convertToInteractive',\n",
       "                                                     [key], {});\n",
       "          if (!dataTable) return;\n",
       "\n",
       "          const docLinkHtml = 'Like what you see? Visit the ' +\n",
       "            '<a target=\"_blank\" href=https://colab.research.google.com/notebooks/data_table.ipynb>data table notebook</a>'\n",
       "            + ' to learn more about interactive tables.';\n",
       "          element.innerHTML = '';\n",
       "          dataTable['output_type'] = 'display_data';\n",
       "          await google.colab.output.renderOutput(dataTable, element);\n",
       "          const docLink = document.createElement('div');\n",
       "          docLink.innerHTML = docLinkHtml;\n",
       "          element.appendChild(docLink);\n",
       "        }\n",
       "      </script>\n",
       "    </div>\n",
       "  </div>\n",
       "  "
      ],
      "text/plain": [
       "            0         1         2         3         4\n",
       "0   -0.644805 -0.220924 -0.517784  0.806820  1.217473\n",
       "1   -0.247949 -0.220924 -0.041273  0.578235  1.896760\n",
       "2   -1.835372 -0.220924 -0.517784  1.263989  1.321978\n",
       "3   -0.247949  0.029648 -0.994295  0.349651 -0.951023\n",
       "4    0.307649  0.029648 -0.279528 -0.793273  1.726938\n",
       "..        ...       ...       ...       ...       ...\n",
       "257  0.623313  0.697839  0.116350  1.388845  0.851702\n",
       "258 -1.573344 -1.223211 -0.315422  0.784856 -0.650569\n",
       "259  1.307077 -0.304448  3.779405 -0.774613 -1.329856\n",
       "260 -0.635924 -0.137400 -0.761371 -0.767696 -1.029402\n",
       "261 -0.487959 -0.053876  1.144313  0.296289 -1.094718\n",
       "\n",
       "[262 rows x 5 columns]"
      ]
     },
     "execution_count": 228,
     "metadata": {},
     "output_type": "execute_result"
    }
   ],
   "source": [
    "# membuat dataframe untuk X_train_final\n",
    "\n",
    "X_train_final_df = pd.DataFrame(X_train_final)\n",
    "X_train_final_df"
   ]
  },
  {
   "cell_type": "markdown",
   "metadata": {
    "id": "eoLb4zhRUke5"
   },
   "source": [
    "scalling dilakukan dengan tujuan agar model dapat belajar dengan baik, karena meskipun datanya adalah numerik tetapi range pada tiap feature berbeda.\n",
    "- scalling ini dilakukan untuk menyeragamkan range nya"
   ]
  },
  {
   "cell_type": "markdown",
   "metadata": {
    "id": "8yXTBRwQGWji"
   },
   "source": [
    "# E. Modelling\n",
    "*dilakukan modelling dengan default parameternya*"
   ]
  },
  {
   "cell_type": "code",
   "execution_count": 229,
   "metadata": {
    "colab": {
     "base_uri": "https://localhost:8080/"
    },
    "id": "Y0q5AnAlGW11",
    "outputId": "5aa7d576-3c70-4101-f66d-75b1a0342bfc"
   },
   "outputs": [
    {
     "data": {
      "text/plain": [
       "XGBClassifier()"
      ]
     },
     "execution_count": 229,
     "metadata": {},
     "output_type": "execute_result"
    }
   ],
   "source": [
    "# Random Forest\n",
    "rf= RandomForestClassifier()\n",
    "rf.fit(X_train_final,y_train)\n",
    "\n",
    "# XGBoost\n",
    "xgb = XGBClassifier()\n",
    "xgb.fit(X_train_final,y_train)"
   ]
  },
  {
   "cell_type": "markdown",
   "metadata": {
    "id": "oUzBVKEbU4IX"
   },
   "source": [
    "model random forest adalah salah satu model terbaik (tree base), begitu juga xgboost.\n",
    "kita akan melakukan modelling pada best model ini"
   ]
  },
  {
   "cell_type": "markdown",
   "metadata": {
    "id": "qmaZ5HZZHC5O"
   },
   "source": [
    "# F. Model Training Test"
   ]
  },
  {
   "cell_type": "code",
   "execution_count": 230,
   "metadata": {
    "id": "pPSz7zyfG1o4"
   },
   "outputs": [],
   "source": [
    "# Random Forest\n",
    "y_pred_train_rf = rf.predict(X_train_final)\n",
    "y_pred_test_rf = rf.predict(X_test_final)\n",
    "\n",
    "# XGBoost\n",
    "y_pred_train_xgb = xgb.predict(X_train_final)\n",
    "y_pred_test_xgb = xgb.predict(X_test_final)"
   ]
  },
  {
   "cell_type": "markdown",
   "metadata": {
    "id": "zGxK6wddHLFO"
   },
   "source": [
    "# G. Model Evaluation"
   ]
  },
  {
   "cell_type": "code",
   "execution_count": 231,
   "metadata": {
    "colab": {
     "base_uri": "https://localhost:8080/"
    },
    "id": "dtYL5MdqHHWZ",
    "outputId": "97f77f22-ed0b-4c7a-d1ca-6e264beecad9"
   },
   "outputs": [
    {
     "name": "stdout",
     "output_type": "stream",
     "text": [
      "==================== Random Forest ====================\n",
      "\n",
      "\n",
      "========== TRAINING ==========\n",
      "              precision    recall  f1-score   support\n",
      "\n",
      "           0       1.00      1.00      1.00       131\n",
      "           1       1.00      1.00      1.00       131\n",
      "\n",
      "    accuracy                           1.00       262\n",
      "   macro avg       1.00      1.00      1.00       262\n",
      "weighted avg       1.00      1.00      1.00       262\n",
      "\n",
      "ROC-AUC Score Train: 1.0\n",
      "\n",
      "\n",
      "========== TEST ==========\n",
      "              precision    recall  f1-score   support\n",
      "\n",
      "           0       0.93      0.88      0.90        64\n",
      "           1       0.70      0.83      0.76        23\n",
      "\n",
      "    accuracy                           0.86        87\n",
      "   macro avg       0.82      0.85      0.83        87\n",
      "weighted avg       0.87      0.86      0.87        87\n",
      "\n",
      "ROC-AUC Score Test: 0.8994565217391304\n"
     ]
    }
   ],
   "source": [
    "# Evaluasi model Random Forest\n",
    "print(\"=\"*20,\"Random Forest\",\"=\"*20)\n",
    "print(\"\\n\")\n",
    "\n",
    "y_prob_train = rf.predict_proba(X_train_final)[:,1]\n",
    "y_prob_test = rf.predict_proba(X_test_final)[:,1]\n",
    "\n",
    "print(\"=\"*10,\"TRAINING\",\"=\"*10)\n",
    "print(classification_report(y_train, y_pred_train_rf, zero_division=0))\n",
    "print('ROC-AUC Score Train:',roc_auc_score(y_train, y_prob_train))\n",
    "print(\"\\n\")\n",
    "print(\"=\"*10,\"TEST\",\"=\"*10)\n",
    "print(classification_report(y_test, y_pred_test_rf, zero_division=0))\n",
    "print('ROC-AUC Score Test:',roc_auc_score(y_test, y_prob_test))"
   ]
  },
  {
   "cell_type": "code",
   "execution_count": 232,
   "metadata": {
    "colab": {
     "base_uri": "https://localhost:8080/",
     "height": 279
    },
    "id": "kE0rtu9KIOTh",
    "outputId": "4893634c-ccc9-4bfb-cf13-73d27a19a439"
   },
   "outputs": [
    {
     "data": {
      "image/png": "[encoded data removed]",
      "text/plain": [
       "<Figure size 432x288 with 2 Axes>"
      ]
     },
     "metadata": {
      "needs_background": "light"
     },
     "output_type": "display_data"
    }
   ],
   "source": [
    "cm = confusion_matrix(y_train, y_pred_train_rf, labels=rf.classes_)\n",
    "disp = ConfusionMatrixDisplay(confusion_matrix=cm, display_labels=rf.classes_)\n",
    "\n",
    "disp.plot()\n",
    "plt.show()"
   ]
  },
  {
   "cell_type": "code",
   "execution_count": 233,
   "metadata": {
    "colab": {
     "base_uri": "https://localhost:8080/"
    },
    "id": "wY9GdHT4HP7I",
    "outputId": "bea14471-cfda-4bed-ee79-0fac60e4d5a9"
   },
   "outputs": [
    {
     "name": "stdout",
     "output_type": "stream",
     "text": [
      "==================== XGBoost ====================\n",
      "\n",
      "\n",
      "========== TRAINING ==========\n",
      "              precision    recall  f1-score   support\n",
      "\n",
      "           0       0.96      0.98      0.97       131\n",
      "           1       0.98      0.95      0.97       131\n",
      "\n",
      "    accuracy                           0.97       262\n",
      "   macro avg       0.97      0.97      0.97       262\n",
      "weighted avg       0.97      0.97      0.97       262\n",
      "\n",
      "ROC-AUC Score Train: 0.9973195035254356\n",
      "\n",
      "\n",
      "========== TEST ==========\n",
      "              precision    recall  f1-score   support\n",
      "\n",
      "           0       0.93      0.84      0.89        64\n",
      "           1       0.66      0.83      0.73        23\n",
      "\n",
      "    accuracy                           0.84        87\n",
      "   macro avg       0.79      0.83      0.81        87\n",
      "weighted avg       0.86      0.84      0.84        87\n",
      "\n",
      "ROC-AUC Score Test: 0.8648097826086956\n"
     ]
    }
   ],
   "source": [
    "# Evaluasi model XGBoost\n",
    "print(\"=\"*20,\"XGBoost\",\"=\"*20)\n",
    "print(\"\\n\")\n",
    "\n",
    "y_prob_train = xgb.predict_proba(X_train_final)[:,1]\n",
    "y_prob_test = xgb.predict_proba(X_test_final)[:,1]\n",
    "\n",
    "print(\"=\"*10,\"TRAINING\",\"=\"*10)\n",
    "print(classification_report(y_train, y_pred_train_xgb, zero_division=0))\n",
    "print('ROC-AUC Score Train:',roc_auc_score(y_train, y_prob_train))\n",
    "print(\"\\n\")\n",
    "print(\"=\"*10,\"TEST\",\"=\"*10)\n",
    "print(classification_report(y_test, y_pred_test_xgb, zero_division=0))\n",
    "print('ROC-AUC Score Test:',roc_auc_score(y_test, y_prob_test))"
   ]
  },
  {
   "cell_type": "code",
   "execution_count": 234,
   "metadata": {
    "colab": {
     "base_uri": "https://localhost:8080/",
     "height": 279
    },
    "id": "QOWAAQRWIQKT",
    "outputId": "7a70429b-59b9-4f76-a5ad-8f4483952094"
   },
   "outputs": [
    {
     "data": {
      "image/png": "[encoded data removed]",
      "text/plain": [
       "<Figure size 432x288 with 2 Axes>"
      ]
     },
     "metadata": {
      "needs_background": "light"
     },
     "output_type": "display_data"
    }
   ],
   "source": [
    "cm = confusion_matrix(y_train, y_pred_train_xgb, labels=xgb.classes_)\n",
    "disp = ConfusionMatrixDisplay(confusion_matrix=cm, display_labels=xgb.classes_)\n",
    "\n",
    "disp.plot()\n",
    "plt.show()"
   ]
  },
  {
   "cell_type": "markdown",
   "metadata": {
    "id": "Yd3qIj-uVWfY"
   },
   "source": [
    "- pada default modelnya didapati model terbaik adalah **Random Forest** dengan ROC_AUC train 1 dan test 0.9\n",
    "- untuk recall dan precisionnya juga sangat baik model dapat sepenuhnya membedakan data\n",
    "- tetapi yang menjadi catatkan model Overfit, model belajar terlalu baik ini digambarkan pada nilai test nya yang berbeda significant\n"
   ]
  },
  {
   "cell_type": "markdown",
   "metadata": {
    "id": "D2nRvbTbIGIe"
   },
   "source": [
    "## GridSearch CV"
   ]
  },
  {
   "cell_type": "code",
   "execution_count": 235,
   "metadata": {
    "id": "baab_hB_H2Li"
   },
   "outputs": [],
   "source": [
    "params = { \"criterion\" : [\"gini\", \"entropy\"], \"min_samples_leaf\" : [1, 5, 10], \"min_samples_split\" : [2, 4, 10, 12, 16], \"n_estimators\": [50, 100, 400, 700, 1000]}"
   ]
  },
  {
   "cell_type": "code",
   "execution_count": 236,
   "metadata": {
    "colab": {
     "base_uri": "https://localhost:8080/"
    },
    "id": "UYI1cgKII0Eo",
    "outputId": "f1fda501-1d79-4e36-f9ed-27d38b1f3271"
   },
   "outputs": [
    {
     "data": {
      "text/plain": [
       "GridSearchCV(cv=3, estimator=RandomForestClassifier(random_state=1),\n",
       "             param_grid={'criterion': ['gini', 'entropy'],\n",
       "                         'min_samples_leaf': [1, 5, 10],\n",
       "                         'min_samples_split': [2, 4, 10, 12, 16],\n",
       "                         'n_estimators': [50, 100, 400, 700, 1000]},\n",
       "             return_train_score=True, scoring='accuracy')"
      ]
     },
     "execution_count": 236,
     "metadata": {},
     "output_type": "execute_result"
    }
   ],
   "source": [
    "from sklearn.model_selection import GridSearchCV\n",
    "dt= RandomForestClassifier(random_state=1)\n",
    "dt_grid = GridSearchCV(dt, params, cv=3, scoring='accuracy', return_train_score=True)\n",
    "dt_grid.fit(X_train_final, y_train)"
   ]
  },
  {
   "cell_type": "code",
   "execution_count": 249,
   "metadata": {
    "colab": {
     "base_uri": "https://localhost:8080/"
    },
    "id": "UeAB7qa7I3_a",
    "outputId": "c04438c7-aa87-4d77-e198-cfa2cb653a60"
   },
   "outputs": [
    {
     "name": "stdout",
     "output_type": "stream",
     "text": [
      "best params: {'criterion': 'entropy', 'min_samples_leaf': 1, 'min_samples_split': 2, 'n_estimators': 700}\n",
      "best score: 0.8854493207941484\n"
     ]
    }
   ],
   "source": [
    "print('best params:', dt_grid.best_params_)\n",
    "print('best score:', dt_grid.best_score_)"
   ]
  },
  {
   "cell_type": "code",
   "execution_count": 250,
   "metadata": {
    "colab": {
     "base_uri": "https://localhost:8080/"
    },
    "id": "F1R563R-L-eE",
    "outputId": "1afea41d-4ce0-4d82-9e78-34c29350311a"
   },
   "outputs": [
    {
     "name": "stdout",
     "output_type": "stream",
     "text": [
      "RandomForestClassifier(criterion='entropy', n_estimators=700, random_state=1)\n"
     ]
    }
   ],
   "source": [
    "dt_best = dt_grid.best_estimator_\n",
    "print(dt_best)"
   ]
  },
  {
   "cell_type": "code",
   "execution_count": 255,
   "metadata": {
    "colab": {
     "base_uri": "https://localhost:8080/"
    },
    "id": "wu7uCeLlJFlQ",
    "outputId": "26a6d160-d7a6-408a-c264-24c2e9c00ee7"
   },
   "outputs": [
    {
     "name": "stdout",
     "output_type": "stream",
     "text": [
      "roc_auc train:  1.0\n",
      "roc_auc test:  0.8427309782608696\n"
     ]
    }
   ],
   "source": [
    "y_pred_train2 = dt_best.predict(X_train_final)\n",
    "print('roc_auc train: ', roc_auc_score(y_train, y_pred_train2))\n",
    "\n",
    "y_pred_test2 = dt_best.predict(X_test_final)\n",
    "print('roc_auc test: ', roc_auc_score(y_test, y_pred_test2))"
   ]
  },
  {
   "cell_type": "markdown",
   "metadata": {
    "id": "dtjDsbhvWQOi"
   },
   "source": [
    "- model overfit\n",
    "- setelah dilakukan hyperparameter tunning, model improving dari overfitnya akan tetapi sekarang nilai roc_auc nya yang menurun"
   ]
  },
  {
   "cell_type": "markdown",
   "metadata": {
    "id": "nSxL5ILdJIyg"
   },
   "source": [
    "# Data Inference"
   ]
  },
  {
   "cell_type": "code",
   "execution_count": 240,
   "metadata": {
    "colab": {
     "base_uri": "https://localhost:8080/",
     "height": 427
    },
    "id": "gtdX7xscJJPu",
    "outputId": "96d344ca-3cda-414e-854c-fdc2d7ba8b16"
   },
   "outputs": [
    {
     "data": {
      "text/html": [
       "\n",
       "  <div id=\"df-694c4721-0a87-49ec-b865-fa8b9e91f15a\">\n",
       "    <div class=\"colab-df-container\">\n",
       "      <div>\n",
       "<style scoped>\n",
       "    .dataframe tbody tr th:only-of-type {\n",
       "        vertical-align: middle;\n",
       "    }\n",
       "\n",
       "    .dataframe tbody tr th {\n",
       "        vertical-align: top;\n",
       "    }\n",
       "\n",
       "    .dataframe thead th {\n",
       "        text-align: right;\n",
       "    }\n",
       "</style>\n",
       "<table border=\"1\" class=\"dataframe\">\n",
       "  <thead>\n",
       "    <tr style=\"text-align: right;\">\n",
       "      <th></th>\n",
       "      <th>age</th>\n",
       "      <th>anaemia</th>\n",
       "      <th>creatinine_phosphokinase</th>\n",
       "      <th>diabetes</th>\n",
       "      <th>ejection_fraction</th>\n",
       "      <th>high_blood_pressure</th>\n",
       "      <th>platelets</th>\n",
       "      <th>serum_creatinine</th>\n",
       "      <th>serum_sodium</th>\n",
       "      <th>sex</th>\n",
       "      <th>smoking</th>\n",
       "      <th>time</th>\n",
       "      <th>DEATH_EVENT</th>\n",
       "    </tr>\n",
       "  </thead>\n",
       "  <tbody>\n",
       "    <tr>\n",
       "      <th>0</th>\n",
       "      <td>70.0</td>\n",
       "      <td>0</td>\n",
       "      <td>93</td>\n",
       "      <td>0</td>\n",
       "      <td>35</td>\n",
       "      <td>0</td>\n",
       "      <td>185000.0</td>\n",
       "      <td>1.1</td>\n",
       "      <td>134</td>\n",
       "      <td>1</td>\n",
       "      <td>1</td>\n",
       "      <td>208</td>\n",
       "      <td>0</td>\n",
       "    </tr>\n",
       "    <tr>\n",
       "      <th>1</th>\n",
       "      <td>45.0</td>\n",
       "      <td>0</td>\n",
       "      <td>582</td>\n",
       "      <td>1</td>\n",
       "      <td>38</td>\n",
       "      <td>0</td>\n",
       "      <td>302000.0</td>\n",
       "      <td>0.9</td>\n",
       "      <td>140</td>\n",
       "      <td>0</td>\n",
       "      <td>0</td>\n",
       "      <td>244</td>\n",
       "      <td>0</td>\n",
       "    </tr>\n",
       "    <tr>\n",
       "      <th>2</th>\n",
       "      <td>63.0</td>\n",
       "      <td>1</td>\n",
       "      <td>122</td>\n",
       "      <td>1</td>\n",
       "      <td>60</td>\n",
       "      <td>0</td>\n",
       "      <td>267000.0</td>\n",
       "      <td>1.2</td>\n",
       "      <td>145</td>\n",
       "      <td>1</td>\n",
       "      <td>0</td>\n",
       "      <td>147</td>\n",
       "      <td>0</td>\n",
       "    </tr>\n",
       "    <tr>\n",
       "      <th>3</th>\n",
       "      <td>73.0</td>\n",
       "      <td>0</td>\n",
       "      <td>582</td>\n",
       "      <td>0</td>\n",
       "      <td>35</td>\n",
       "      <td>1</td>\n",
       "      <td>203000.0</td>\n",
       "      <td>1.3</td>\n",
       "      <td>134</td>\n",
       "      <td>1</td>\n",
       "      <td>0</td>\n",
       "      <td>195</td>\n",
       "      <td>0</td>\n",
       "    </tr>\n",
       "    <tr>\n",
       "      <th>4</th>\n",
       "      <td>45.0</td>\n",
       "      <td>1</td>\n",
       "      <td>981</td>\n",
       "      <td>0</td>\n",
       "      <td>30</td>\n",
       "      <td>0</td>\n",
       "      <td>136000.0</td>\n",
       "      <td>1.1</td>\n",
       "      <td>137</td>\n",
       "      <td>1</td>\n",
       "      <td>0</td>\n",
       "      <td>11</td>\n",
       "      <td>1</td>\n",
       "    </tr>\n",
       "    <tr>\n",
       "      <th>5</th>\n",
       "      <td>62.0</td>\n",
       "      <td>0</td>\n",
       "      <td>30</td>\n",
       "      <td>1</td>\n",
       "      <td>60</td>\n",
       "      <td>1</td>\n",
       "      <td>244000.0</td>\n",
       "      <td>0.9</td>\n",
       "      <td>139</td>\n",
       "      <td>1</td>\n",
       "      <td>0</td>\n",
       "      <td>117</td>\n",
       "      <td>0</td>\n",
       "    </tr>\n",
       "    <tr>\n",
       "      <th>6</th>\n",
       "      <td>49.0</td>\n",
       "      <td>1</td>\n",
       "      <td>80</td>\n",
       "      <td>0</td>\n",
       "      <td>30</td>\n",
       "      <td>1</td>\n",
       "      <td>427000.0</td>\n",
       "      <td>1.0</td>\n",
       "      <td>138</td>\n",
       "      <td>0</td>\n",
       "      <td>0</td>\n",
       "      <td>12</td>\n",
       "      <td>0</td>\n",
       "    </tr>\n",
       "    <tr>\n",
       "      <th>7</th>\n",
       "      <td>51.0</td>\n",
       "      <td>0</td>\n",
       "      <td>1380</td>\n",
       "      <td>0</td>\n",
       "      <td>25</td>\n",
       "      <td>1</td>\n",
       "      <td>271000.0</td>\n",
       "      <td>0.9</td>\n",
       "      <td>130</td>\n",
       "      <td>1</td>\n",
       "      <td>0</td>\n",
       "      <td>38</td>\n",
       "      <td>1</td>\n",
       "    </tr>\n",
       "    <tr>\n",
       "      <th>8</th>\n",
       "      <td>45.0</td>\n",
       "      <td>0</td>\n",
       "      <td>615</td>\n",
       "      <td>1</td>\n",
       "      <td>55</td>\n",
       "      <td>0</td>\n",
       "      <td>222000.0</td>\n",
       "      <td>0.8</td>\n",
       "      <td>141</td>\n",
       "      <td>0</td>\n",
       "      <td>0</td>\n",
       "      <td>257</td>\n",
       "      <td>0</td>\n",
       "    </tr>\n",
       "    <tr>\n",
       "      <th>9</th>\n",
       "      <td>60.0</td>\n",
       "      <td>0</td>\n",
       "      <td>59</td>\n",
       "      <td>0</td>\n",
       "      <td>25</td>\n",
       "      <td>1</td>\n",
       "      <td>212000.0</td>\n",
       "      <td>3.5</td>\n",
       "      <td>136</td>\n",
       "      <td>1</td>\n",
       "      <td>1</td>\n",
       "      <td>187</td>\n",
       "      <td>0</td>\n",
       "    </tr>\n",
       "  </tbody>\n",
       "</table>\n",
       "</div>\n",
       "      <button class=\"colab-df-convert\" onclick=\"convertToInteractive('df-694c4721-0a87-49ec-b865-fa8b9e91f15a')\"\n",
       "              title=\"Convert this dataframe to an interactive table.\"\n",
       "              style=\"display:none;\">\n",
       "        \n",
       "  <svg xmlns=\"http://www.w3.org/2000/svg\" height=\"24px\"viewBox=\"0 0 24 24\"\n",
       "       width=\"24px\">\n",
       "    <path d=\"M0 0h24v24H0V0z\" fill=\"none\"/>\n",
       "    <path d=\"M18.56 5.44l.94 2.06.94-2.06 2.06-.94-2.06-.94-.94-2.06-.94 2.06-2.06.94zm-11 1L8.5 8.5l.94-2.06 2.06-.94-2.06-.94L8.5 2.5l-.94 2.06-2.06.94zm10 10l.94 2.06.94-2.06 2.06-.94-2.06-.94-.94-2.06-.94 2.06-2.06.94z\"/><path d=\"M17.41 7.96l-1.37-1.37c-.4-.4-.92-.59-1.43-.59-.52 0-1.04.2-1.43.59L10.3 9.45l-7.72 7.72c-.78.78-.78 2.05 0 2.83L4 21.41c.39.39.9.59 1.41.59.51 0 1.02-.2 1.41-.59l7.78-7.78 2.81-2.81c.8-.78.8-2.07 0-2.86zM5.41 20L4 18.59l7.72-7.72 1.47 1.35L5.41 20z\"/>\n",
       "  </svg>\n",
       "      </button>\n",
       "      \n",
       "  <style>\n",
       "    .colab-df-container {\n",
       "      display:flex;\n",
       "      flex-wrap:wrap;\n",
       "      gap: 12px;\n",
       "    }\n",
       "\n",
       "    .colab-df-convert {\n",
       "      background-color: #E8F0FE;\n",
       "      border: none;\n",
       "      border-radius: 50%;\n",
       "      cursor: pointer;\n",
       "      display: none;\n",
       "      fill: #1967D2;\n",
       "      height: 32px;\n",
       "      padding: 0 0 0 0;\n",
       "      width: 32px;\n",
       "    }\n",
       "\n",
       "    .colab-df-convert:hover {\n",
       "      background-color: #E2EBFA;\n",
       "      box-shadow: 0px 1px 2px rgba(60, 64, 67, 0.3), 0px 1px 3px 1px rgba(60, 64, 67, 0.15);\n",
       "      fill: #174EA6;\n",
       "    }\n",
       "\n",
       "    [theme=dark] .colab-df-convert {\n",
       "      background-color: #3B4455;\n",
       "      fill: #D2E3FC;\n",
       "    }\n",
       "\n",
       "    [theme=dark] .colab-df-convert:hover {\n",
       "      background-color: #434B5C;\n",
       "      box-shadow: 0px 1px 3px 1px rgba(0, 0, 0, 0.15);\n",
       "      filter: drop-shadow(0px 1px 2px rgba(0, 0, 0, 0.3));\n",
       "      fill: #FFFFFF;\n",
       "    }\n",
       "  </style>\n",
       "\n",
       "      <script>\n",
       "        const buttonEl =\n",
       "          document.querySelector('#df-694c4721-0a87-49ec-b865-fa8b9e91f15a button.colab-df-convert');\n",
       "        buttonEl.style.display =\n",
       "          google.colab.kernel.accessAllowed ? 'block' : 'none';\n",
       "\n",
       "        async function convertToInteractive(key) {\n",
       "          const element = document.querySelector('#df-694c4721-0a87-49ec-b865-fa8b9e91f15a');\n",
       "          const dataTable =\n",
       "            await google.colab.kernel.invokeFunction('convertToInteractive',\n",
       "                                                     [key], {});\n",
       "          if (!dataTable) return;\n",
       "\n",
       "          const docLinkHtml = 'Like what you see? Visit the ' +\n",
       "            '<a target=\"_blank\" href=https://colab.research.google.com/notebooks/data_table.ipynb>data table notebook</a>'\n",
       "            + ' to learn more about interactive tables.';\n",
       "          element.innerHTML = '';\n",
       "          dataTable['output_type'] = 'display_data';\n",
       "          await google.colab.output.renderOutput(dataTable, element);\n",
       "          const docLink = document.createElement('div');\n",
       "          docLink.innerHTML = docLinkHtml;\n",
       "          element.appendChild(docLink);\n",
       "        }\n",
       "      </script>\n",
       "    </div>\n",
       "  </div>\n",
       "  "
      ],
      "text/plain": [
       "    age  anaemia  creatinine_phosphokinase  diabetes  ejection_fraction  \\\n",
       "0  70.0        0                        93         0                 35   \n",
       "1  45.0        0                       582         1                 38   \n",
       "2  63.0        1                       122         1                 60   \n",
       "3  73.0        0                       582         0                 35   \n",
       "4  45.0        1                       981         0                 30   \n",
       "5  62.0        0                        30         1                 60   \n",
       "6  49.0        1                        80         0                 30   \n",
       "7  51.0        0                      1380         0                 25   \n",
       "8  45.0        0                       615         1                 55   \n",
       "9  60.0        0                        59         0                 25   \n",
       "\n",
       "   high_blood_pressure  platelets  serum_creatinine  serum_sodium  sex  \\\n",
       "0                    0   185000.0               1.1           134    1   \n",
       "1                    0   302000.0               0.9           140    0   \n",
       "2                    0   267000.0               1.2           145    1   \n",
       "3                    1   203000.0               1.3           134    1   \n",
       "4                    0   136000.0               1.1           137    1   \n",
       "5                    1   244000.0               0.9           139    1   \n",
       "6                    1   427000.0               1.0           138    0   \n",
       "7                    1   271000.0               0.9           130    1   \n",
       "8                    0   222000.0               0.8           141    0   \n",
       "9                    1   212000.0               3.5           136    1   \n",
       "\n",
       "   smoking  time  DEATH_EVENT  \n",
       "0        1   208            0  \n",
       "1        0   244            0  \n",
       "2        0   147            0  \n",
       "3        0   195            0  \n",
       "4        0    11            1  \n",
       "5        0   117            0  \n",
       "6        0    12            0  \n",
       "7        0    38            1  \n",
       "8        0   257            0  \n",
       "9        1   187            0  "
      ]
     },
     "execution_count": 240,
     "metadata": {},
     "output_type": "execute_result"
    }
   ],
   "source": [
    "df_inf"
   ]
  },
  {
   "cell_type": "code",
   "execution_count": 241,
   "metadata": {
    "colab": {
     "base_uri": "https://localhost:8080/"
    },
    "id": "WXXnUhOOSool",
    "outputId": "6c92ae3f-84a8-4144-b926-81b192d748aa"
   },
   "outputs": [
    {
     "data": {
      "text/plain": [
       "Winsorizer(tail='both', variables=['age', 'serum_creatinine', 'serum_sodium'])"
      ]
     },
     "execution_count": 241,
     "metadata": {},
     "output_type": "execute_result"
    }
   ],
   "source": [
    "capper_normal.fit(df_inf)"
   ]
  },
  {
   "cell_type": "code",
   "execution_count": 242,
   "metadata": {
    "id": "eu70B8aPJK5V"
   },
   "outputs": [],
   "source": [
    "data_inf_num = df_inf[num_columns]"
   ]
  },
  {
   "cell_type": "code",
   "execution_count": 243,
   "metadata": {
    "colab": {
     "base_uri": "https://localhost:8080/"
    },
    "id": "ef1PL3iiJN4e",
    "outputId": "1716123b-7e0e-47f9-862b-af7f79e1100f"
   },
   "outputs": [
    {
     "data": {
      "text/plain": [
       "array([[ 0.5457623 , -0.22092405, -0.39865599, -0.56468791,  1.24359902],\n",
       "       [-1.43851613,  0.02964782, -0.63691144,  0.80681989,  1.7138751 ],\n",
       "       [-0.00983566,  1.86717481, -0.27952827,  1.94974306,  0.44674233],\n",
       "       [ 0.78387572, -0.22092405, -0.16040055, -0.56468791,  1.07377711],\n",
       "       [-1.43851613, -0.63854382, -0.39865599,  0.12106599, -1.32985619],\n",
       "       [-0.0892068 ,  1.86717481, -0.63691144,  0.57823526,  0.0548456 ],\n",
       "       [-1.12103158, -0.63854382, -0.51778372,  0.34965063, -1.31679297],\n",
       "       [-0.96228931, -1.05616359, -0.63691144, -1.47902644, -0.97714913],\n",
       "       [-1.43851613,  1.44955504, -0.75603916,  1.03540452,  1.88369702],\n",
       "       [-0.24794907, -1.05616359,  2.46040934, -0.10751864,  0.96927131]])"
      ]
     },
     "execution_count": 243,
     "metadata": {},
     "output_type": "execute_result"
    }
   ],
   "source": [
    "data_inf_final = scaler.transform(data_inf_num)\n",
    "data_inf_final"
   ]
  },
  {
   "cell_type": "code",
   "execution_count": 253,
   "metadata": {
    "colab": {
     "base_uri": "https://localhost:8080/",
     "height": 363
    },
    "id": "3vxHFUykJQ3L",
    "outputId": "b4e78cc8-3183-4b6e-a6fe-0487de30d8bd"
   },
   "outputs": [
    {
     "data": {
      "text/html": [
       "\n",
       "  <div id=\"df-f70dab23-40f2-4c91-966b-140e8c6bd35d\">\n",
       "    <div class=\"colab-df-container\">\n",
       "      <div>\n",
       "<style scoped>\n",
       "    .dataframe tbody tr th:only-of-type {\n",
       "        vertical-align: middle;\n",
       "    }\n",
       "\n",
       "    .dataframe tbody tr th {\n",
       "        vertical-align: top;\n",
       "    }\n",
       "\n",
       "    .dataframe thead th {\n",
       "        text-align: right;\n",
       "    }\n",
       "</style>\n",
       "<table border=\"1\" class=\"dataframe\">\n",
       "  <thead>\n",
       "    <tr style=\"text-align: right;\">\n",
       "      <th></th>\n",
       "      <th>model_predict</th>\n",
       "    </tr>\n",
       "  </thead>\n",
       "  <tbody>\n",
       "    <tr>\n",
       "      <th>0</th>\n",
       "      <td>0</td>\n",
       "    </tr>\n",
       "    <tr>\n",
       "      <th>1</th>\n",
       "      <td>0</td>\n",
       "    </tr>\n",
       "    <tr>\n",
       "      <th>2</th>\n",
       "      <td>0</td>\n",
       "    </tr>\n",
       "    <tr>\n",
       "      <th>3</th>\n",
       "      <td>0</td>\n",
       "    </tr>\n",
       "    <tr>\n",
       "      <th>4</th>\n",
       "      <td>1</td>\n",
       "    </tr>\n",
       "    <tr>\n",
       "      <th>5</th>\n",
       "      <td>0</td>\n",
       "    </tr>\n",
       "    <tr>\n",
       "      <th>6</th>\n",
       "      <td>1</td>\n",
       "    </tr>\n",
       "    <tr>\n",
       "      <th>7</th>\n",
       "      <td>1</td>\n",
       "    </tr>\n",
       "    <tr>\n",
       "      <th>8</th>\n",
       "      <td>0</td>\n",
       "    </tr>\n",
       "    <tr>\n",
       "      <th>9</th>\n",
       "      <td>1</td>\n",
       "    </tr>\n",
       "  </tbody>\n",
       "</table>\n",
       "</div>\n",
       "      <button class=\"colab-df-convert\" onclick=\"convertToInteractive('df-f70dab23-40f2-4c91-966b-140e8c6bd35d')\"\n",
       "              title=\"Convert this dataframe to an interactive table.\"\n",
       "              style=\"display:none;\">\n",
       "        \n",
       "  <svg xmlns=\"http://www.w3.org/2000/svg\" height=\"24px\"viewBox=\"0 0 24 24\"\n",
       "       width=\"24px\">\n",
       "    <path d=\"M0 0h24v24H0V0z\" fill=\"none\"/>\n",
       "    <path d=\"M18.56 5.44l.94 2.06.94-2.06 2.06-.94-2.06-.94-.94-2.06-.94 2.06-2.06.94zm-11 1L8.5 8.5l.94-2.06 2.06-.94-2.06-.94L8.5 2.5l-.94 2.06-2.06.94zm10 10l.94 2.06.94-2.06 2.06-.94-2.06-.94-.94-2.06-.94 2.06-2.06.94z\"/><path d=\"M17.41 7.96l-1.37-1.37c-.4-.4-.92-.59-1.43-.59-.52 0-1.04.2-1.43.59L10.3 9.45l-7.72 7.72c-.78.78-.78 2.05 0 2.83L4 21.41c.39.39.9.59 1.41.59.51 0 1.02-.2 1.41-.59l7.78-7.78 2.81-2.81c.8-.78.8-2.07 0-2.86zM5.41 20L4 18.59l7.72-7.72 1.47 1.35L5.41 20z\"/>\n",
       "  </svg>\n",
       "      </button>\n",
       "      \n",
       "  <style>\n",
       "    .colab-df-container {\n",
       "      display:flex;\n",
       "      flex-wrap:wrap;\n",
       "      gap: 12px;\n",
       "    }\n",
       "\n",
       "    .colab-df-convert {\n",
       "      background-color: #E8F0FE;\n",
       "      border: none;\n",
       "      border-radius: 50%;\n",
       "      cursor: pointer;\n",
       "      display: none;\n",
       "      fill: #1967D2;\n",
       "      height: 32px;\n",
       "      padding: 0 0 0 0;\n",
       "      width: 32px;\n",
       "    }\n",
       "\n",
       "    .colab-df-convert:hover {\n",
       "      background-color: #E2EBFA;\n",
       "      box-shadow: 0px 1px 2px rgba(60, 64, 67, 0.3), 0px 1px 3px 1px rgba(60, 64, 67, 0.15);\n",
       "      fill: #174EA6;\n",
       "    }\n",
       "\n",
       "    [theme=dark] .colab-df-convert {\n",
       "      background-color: #3B4455;\n",
       "      fill: #D2E3FC;\n",
       "    }\n",
       "\n",
       "    [theme=dark] .colab-df-convert:hover {\n",
       "      background-color: #434B5C;\n",
       "      box-shadow: 0px 1px 3px 1px rgba(0, 0, 0, 0.15);\n",
       "      filter: drop-shadow(0px 1px 2px rgba(0, 0, 0, 0.3));\n",
       "      fill: #FFFFFF;\n",
       "    }\n",
       "  </style>\n",
       "\n",
       "      <script>\n",
       "        const buttonEl =\n",
       "          document.querySelector('#df-f70dab23-40f2-4c91-966b-140e8c6bd35d button.colab-df-convert');\n",
       "        buttonEl.style.display =\n",
       "          google.colab.kernel.accessAllowed ? 'block' : 'none';\n",
       "\n",
       "        async function convertToInteractive(key) {\n",
       "          const element = document.querySelector('#df-f70dab23-40f2-4c91-966b-140e8c6bd35d');\n",
       "          const dataTable =\n",
       "            await google.colab.kernel.invokeFunction('convertToInteractive',\n",
       "                                                     [key], {});\n",
       "          if (!dataTable) return;\n",
       "\n",
       "          const docLinkHtml = 'Like what you see? Visit the ' +\n",
       "            '<a target=\"_blank\" href=https://colab.research.google.com/notebooks/data_table.ipynb>data table notebook</a>'\n",
       "            + ' to learn more about interactive tables.';\n",
       "          element.innerHTML = '';\n",
       "          dataTable['output_type'] = 'display_data';\n",
       "          await google.colab.output.renderOutput(dataTable, element);\n",
       "          const docLink = document.createElement('div');\n",
       "          docLink.innerHTML = docLinkHtml;\n",
       "          element.appendChild(docLink);\n",
       "        }\n",
       "      </script>\n",
       "    </div>\n",
       "  </div>\n",
       "  "
      ],
      "text/plain": [
       "   model_predict\n",
       "0              0\n",
       "1              0\n",
       "2              0\n",
       "3              0\n",
       "4              1\n",
       "5              0\n",
       "6              1\n",
       "7              1\n",
       "8              0\n",
       "9              1"
      ]
     },
     "execution_count": 253,
     "metadata": {},
     "output_type": "execute_result"
    }
   ],
   "source": [
    "# melakukan prediksi terhadap data inference dengan model decision tree\n",
    "\n",
    "y_pred_inf_dt = dt_best.predict(data_inf_final)\n",
    "y_pred_inf_df_dt = pd.DataFrame(y_pred_inf_dt, columns=['model_predict'])\n",
    "y_pred_inf_df_dt"
   ]
  },
  {
   "cell_type": "code",
   "execution_count": 254,
   "metadata": {
    "colab": {
     "base_uri": "https://localhost:8080/",
     "height": 427
    },
    "id": "wSL_Qx0HJYJe",
    "outputId": "eba5c3ec-e791-4fa7-b3ce-7452314aa72b"
   },
   "outputs": [
    {
     "data": {
      "text/html": [
       "\n",
       "  <div id=\"df-8a73243a-adb7-4d54-8114-481a8a5cff28\">\n",
       "    <div class=\"colab-df-container\">\n",
       "      <div>\n",
       "<style scoped>\n",
       "    .dataframe tbody tr th:only-of-type {\n",
       "        vertical-align: middle;\n",
       "    }\n",
       "\n",
       "    .dataframe tbody tr th {\n",
       "        vertical-align: top;\n",
       "    }\n",
       "\n",
       "    .dataframe thead th {\n",
       "        text-align: right;\n",
       "    }\n",
       "</style>\n",
       "<table border=\"1\" class=\"dataframe\">\n",
       "  <thead>\n",
       "    <tr style=\"text-align: right;\">\n",
       "      <th></th>\n",
       "      <th>age</th>\n",
       "      <th>anaemia</th>\n",
       "      <th>creatinine_phosphokinase</th>\n",
       "      <th>diabetes</th>\n",
       "      <th>ejection_fraction</th>\n",
       "      <th>high_blood_pressure</th>\n",
       "      <th>platelets</th>\n",
       "      <th>serum_creatinine</th>\n",
       "      <th>serum_sodium</th>\n",
       "      <th>sex</th>\n",
       "      <th>smoking</th>\n",
       "      <th>time</th>\n",
       "      <th>DEATH_EVENT</th>\n",
       "      <th>model_predict</th>\n",
       "    </tr>\n",
       "  </thead>\n",
       "  <tbody>\n",
       "    <tr>\n",
       "      <th>0</th>\n",
       "      <td>70.0</td>\n",
       "      <td>0</td>\n",
       "      <td>93</td>\n",
       "      <td>0</td>\n",
       "      <td>35</td>\n",
       "      <td>0</td>\n",
       "      <td>185000.0</td>\n",
       "      <td>1.1</td>\n",
       "      <td>134</td>\n",
       "      <td>1</td>\n",
       "      <td>1</td>\n",
       "      <td>208</td>\n",
       "      <td>0</td>\n",
       "      <td>0</td>\n",
       "    </tr>\n",
       "    <tr>\n",
       "      <th>1</th>\n",
       "      <td>45.0</td>\n",
       "      <td>0</td>\n",
       "      <td>582</td>\n",
       "      <td>1</td>\n",
       "      <td>38</td>\n",
       "      <td>0</td>\n",
       "      <td>302000.0</td>\n",
       "      <td>0.9</td>\n",
       "      <td>140</td>\n",
       "      <td>0</td>\n",
       "      <td>0</td>\n",
       "      <td>244</td>\n",
       "      <td>0</td>\n",
       "      <td>0</td>\n",
       "    </tr>\n",
       "    <tr>\n",
       "      <th>2</th>\n",
       "      <td>63.0</td>\n",
       "      <td>1</td>\n",
       "      <td>122</td>\n",
       "      <td>1</td>\n",
       "      <td>60</td>\n",
       "      <td>0</td>\n",
       "      <td>267000.0</td>\n",
       "      <td>1.2</td>\n",
       "      <td>145</td>\n",
       "      <td>1</td>\n",
       "      <td>0</td>\n",
       "      <td>147</td>\n",
       "      <td>0</td>\n",
       "      <td>0</td>\n",
       "    </tr>\n",
       "    <tr>\n",
       "      <th>3</th>\n",
       "      <td>73.0</td>\n",
       "      <td>0</td>\n",
       "      <td>582</td>\n",
       "      <td>0</td>\n",
       "      <td>35</td>\n",
       "      <td>1</td>\n",
       "      <td>203000.0</td>\n",
       "      <td>1.3</td>\n",
       "      <td>134</td>\n",
       "      <td>1</td>\n",
       "      <td>0</td>\n",
       "      <td>195</td>\n",
       "      <td>0</td>\n",
       "      <td>0</td>\n",
       "    </tr>\n",
       "    <tr>\n",
       "      <th>4</th>\n",
       "      <td>45.0</td>\n",
       "      <td>1</td>\n",
       "      <td>981</td>\n",
       "      <td>0</td>\n",
       "      <td>30</td>\n",
       "      <td>0</td>\n",
       "      <td>136000.0</td>\n",
       "      <td>1.1</td>\n",
       "      <td>137</td>\n",
       "      <td>1</td>\n",
       "      <td>0</td>\n",
       "      <td>11</td>\n",
       "      <td>1</td>\n",
       "      <td>1</td>\n",
       "    </tr>\n",
       "    <tr>\n",
       "      <th>5</th>\n",
       "      <td>62.0</td>\n",
       "      <td>0</td>\n",
       "      <td>30</td>\n",
       "      <td>1</td>\n",
       "      <td>60</td>\n",
       "      <td>1</td>\n",
       "      <td>244000.0</td>\n",
       "      <td>0.9</td>\n",
       "      <td>139</td>\n",
       "      <td>1</td>\n",
       "      <td>0</td>\n",
       "      <td>117</td>\n",
       "      <td>0</td>\n",
       "      <td>0</td>\n",
       "    </tr>\n",
       "    <tr>\n",
       "      <th>6</th>\n",
       "      <td>49.0</td>\n",
       "      <td>1</td>\n",
       "      <td>80</td>\n",
       "      <td>0</td>\n",
       "      <td>30</td>\n",
       "      <td>1</td>\n",
       "      <td>427000.0</td>\n",
       "      <td>1.0</td>\n",
       "      <td>138</td>\n",
       "      <td>0</td>\n",
       "      <td>0</td>\n",
       "      <td>12</td>\n",
       "      <td>0</td>\n",
       "      <td>1</td>\n",
       "    </tr>\n",
       "    <tr>\n",
       "      <th>7</th>\n",
       "      <td>51.0</td>\n",
       "      <td>0</td>\n",
       "      <td>1380</td>\n",
       "      <td>0</td>\n",
       "      <td>25</td>\n",
       "      <td>1</td>\n",
       "      <td>271000.0</td>\n",
       "      <td>0.9</td>\n",
       "      <td>130</td>\n",
       "      <td>1</td>\n",
       "      <td>0</td>\n",
       "      <td>38</td>\n",
       "      <td>1</td>\n",
       "      <td>1</td>\n",
       "    </tr>\n",
       "    <tr>\n",
       "      <th>8</th>\n",
       "      <td>45.0</td>\n",
       "      <td>0</td>\n",
       "      <td>615</td>\n",
       "      <td>1</td>\n",
       "      <td>55</td>\n",
       "      <td>0</td>\n",
       "      <td>222000.0</td>\n",
       "      <td>0.8</td>\n",
       "      <td>141</td>\n",
       "      <td>0</td>\n",
       "      <td>0</td>\n",
       "      <td>257</td>\n",
       "      <td>0</td>\n",
       "      <td>0</td>\n",
       "    </tr>\n",
       "    <tr>\n",
       "      <th>9</th>\n",
       "      <td>60.0</td>\n",
       "      <td>0</td>\n",
       "      <td>59</td>\n",
       "      <td>0</td>\n",
       "      <td>25</td>\n",
       "      <td>1</td>\n",
       "      <td>212000.0</td>\n",
       "      <td>3.5</td>\n",
       "      <td>136</td>\n",
       "      <td>1</td>\n",
       "      <td>1</td>\n",
       "      <td>187</td>\n",
       "      <td>0</td>\n",
       "      <td>1</td>\n",
       "    </tr>\n",
       "  </tbody>\n",
       "</table>\n",
       "</div>\n",
       "      <button class=\"colab-df-convert\" onclick=\"convertToInteractive('df-8a73243a-adb7-4d54-8114-481a8a5cff28')\"\n",
       "              title=\"Convert this dataframe to an interactive table.\"\n",
       "              style=\"display:none;\">\n",
       "        \n",
       "  <svg xmlns=\"http://www.w3.org/2000/svg\" height=\"24px\"viewBox=\"0 0 24 24\"\n",
       "       width=\"24px\">\n",
       "    <path d=\"M0 0h24v24H0V0z\" fill=\"none\"/>\n",
       "    <path d=\"M18.56 5.44l.94 2.06.94-2.06 2.06-.94-2.06-.94-.94-2.06-.94 2.06-2.06.94zm-11 1L8.5 8.5l.94-2.06 2.06-.94-2.06-.94L8.5 2.5l-.94 2.06-2.06.94zm10 10l.94 2.06.94-2.06 2.06-.94-2.06-.94-.94-2.06-.94 2.06-2.06.94z\"/><path d=\"M17.41 7.96l-1.37-1.37c-.4-.4-.92-.59-1.43-.59-.52 0-1.04.2-1.43.59L10.3 9.45l-7.72 7.72c-.78.78-.78 2.05 0 2.83L4 21.41c.39.39.9.59 1.41.59.51 0 1.02-.2 1.41-.59l7.78-7.78 2.81-2.81c.8-.78.8-2.07 0-2.86zM5.41 20L4 18.59l7.72-7.72 1.47 1.35L5.41 20z\"/>\n",
       "  </svg>\n",
       "      </button>\n",
       "      \n",
       "  <style>\n",
       "    .colab-df-container {\n",
       "      display:flex;\n",
       "      flex-wrap:wrap;\n",
       "      gap: 12px;\n",
       "    }\n",
       "\n",
       "    .colab-df-convert {\n",
       "      background-color: #E8F0FE;\n",
       "      border: none;\n",
       "      border-radius: 50%;\n",
       "      cursor: pointer;\n",
       "      display: none;\n",
       "      fill: #1967D2;\n",
       "      height: 32px;\n",
       "      padding: 0 0 0 0;\n",
       "      width: 32px;\n",
       "    }\n",
       "\n",
       "    .colab-df-convert:hover {\n",
       "      background-color: #E2EBFA;\n",
       "      box-shadow: 0px 1px 2px rgba(60, 64, 67, 0.3), 0px 1px 3px 1px rgba(60, 64, 67, 0.15);\n",
       "      fill: #174EA6;\n",
       "    }\n",
       "\n",
       "    [theme=dark] .colab-df-convert {\n",
       "      background-color: #3B4455;\n",
       "      fill: #D2E3FC;\n",
       "    }\n",
       "\n",
       "    [theme=dark] .colab-df-convert:hover {\n",
       "      background-color: #434B5C;\n",
       "      box-shadow: 0px 1px 3px 1px rgba(0, 0, 0, 0.15);\n",
       "      filter: drop-shadow(0px 1px 2px rgba(0, 0, 0, 0.3));\n",
       "      fill: #FFFFFF;\n",
       "    }\n",
       "  </style>\n",
       "\n",
       "      <script>\n",
       "        const buttonEl =\n",
       "          document.querySelector('#df-8a73243a-adb7-4d54-8114-481a8a5cff28 button.colab-df-convert');\n",
       "        buttonEl.style.display =\n",
       "          google.colab.kernel.accessAllowed ? 'block' : 'none';\n",
       "\n",
       "        async function convertToInteractive(key) {\n",
       "          const element = document.querySelector('#df-8a73243a-adb7-4d54-8114-481a8a5cff28');\n",
       "          const dataTable =\n",
       "            await google.colab.kernel.invokeFunction('convertToInteractive',\n",
       "                                                     [key], {});\n",
       "          if (!dataTable) return;\n",
       "\n",
       "          const docLinkHtml = 'Like what you see? Visit the ' +\n",
       "            '<a target=\"_blank\" href=https://colab.research.google.com/notebooks/data_table.ipynb>data table notebook</a>'\n",
       "            + ' to learn more about interactive tables.';\n",
       "          element.innerHTML = '';\n",
       "          dataTable['output_type'] = 'display_data';\n",
       "          await google.colab.output.renderOutput(dataTable, element);\n",
       "          const docLink = document.createElement('div');\n",
       "          docLink.innerHTML = docLinkHtml;\n",
       "          element.appendChild(docLink);\n",
       "        }\n",
       "      </script>\n",
       "    </div>\n",
       "  </div>\n",
       "  "
      ],
      "text/plain": [
       "    age  anaemia  creatinine_phosphokinase  diabetes  ejection_fraction  \\\n",
       "0  70.0        0                        93         0                 35   \n",
       "1  45.0        0                       582         1                 38   \n",
       "2  63.0        1                       122         1                 60   \n",
       "3  73.0        0                       582         0                 35   \n",
       "4  45.0        1                       981         0                 30   \n",
       "5  62.0        0                        30         1                 60   \n",
       "6  49.0        1                        80         0                 30   \n",
       "7  51.0        0                      1380         0                 25   \n",
       "8  45.0        0                       615         1                 55   \n",
       "9  60.0        0                        59         0                 25   \n",
       "\n",
       "   high_blood_pressure  platelets  serum_creatinine  serum_sodium  sex  \\\n",
       "0                    0   185000.0               1.1           134    1   \n",
       "1                    0   302000.0               0.9           140    0   \n",
       "2                    0   267000.0               1.2           145    1   \n",
       "3                    1   203000.0               1.3           134    1   \n",
       "4                    0   136000.0               1.1           137    1   \n",
       "5                    1   244000.0               0.9           139    1   \n",
       "6                    1   427000.0               1.0           138    0   \n",
       "7                    1   271000.0               0.9           130    1   \n",
       "8                    0   222000.0               0.8           141    0   \n",
       "9                    1   212000.0               3.5           136    1   \n",
       "\n",
       "   smoking  time  DEATH_EVENT  model_predict  \n",
       "0        1   208            0              0  \n",
       "1        0   244            0              0  \n",
       "2        0   147            0              0  \n",
       "3        0   195            0              0  \n",
       "4        0    11            1              1  \n",
       "5        0   117            0              0  \n",
       "6        0    12            0              1  \n",
       "7        0    38            1              1  \n",
       "8        0   257            0              0  \n",
       "9        1   187            0              1  "
      ]
     },
     "execution_count": 254,
     "metadata": {},
     "output_type": "execute_result"
    }
   ],
   "source": [
    "pd.concat([df_inf, y_pred_inf_df_dt], axis=1)"
   ]
  },
  {
   "cell_type": "markdown",
   "metadata": {
    "id": "iH5epYbTiar8"
   },
   "source": [
    "# END GAME 1"
   ]
  },
  {
   "cell_type": "markdown",
   "metadata": {
    "id": "SNpW9OvWi2Ns"
   },
   "source": [
    "model dapat memilah data dengan baik\n",
    "- secara rata2 model dapat memprediksi 90 persen data benar\n",
    "- dengan nilai eror nya yang relatif kecil\n",
    "- model terbaik untuk data ini adalah random forest ini dibuktikan dari defaul modelnya. yang menjadi catatan adalah pengolahan data masih belum cukup optimal tetap untuk hyperparamter model nya sudah cukup optimal\n",
    "- pada tahap lanjutan data harus diolah lagi pada preprocessing dengan lebih baik seperti handling outlier, scalling yang tepat dan lain sebaginya.\n",
    "- sebelum data di balancing penulis telah mencoba untuk data imbalance, hasilnya data balance improving membuat model sedikit lebih baik.\n",
    "- perlu diperhatikan juga untuk data yang diolah agar lebih banyak dengan harapan pembelajaran model optimal\n"
   ]
  },
  {
   "cell_type": "markdown",
   "metadata": {
    "id": "II1JARW0iiG8"
   },
   "source": [
    "**Next Step Improving Model**\n",
    "\n",
    "*End Game*"
   ]
  },
  {
   "cell_type": "markdown",
   "metadata": {
    "id": "zja4jw5hk9lB"
   },
   "source": [
    "jika model ini telah disempurnakan, maka tenaga medis dapat menggunakan model untuk mengetahui pasien impact heart failure.\n",
    "\n",
    "ini akan sangat bergunakan untuk screening tahap awal mereka"
   ]
  }
 ],
 "metadata": {
  "colab": {
   "collapsed_sections": [],
   "provenance": []
  },
  "kernelspec": {
   "display_name": "Python 3 (ipykernel)",
   "language": "python",
   "name": "python3"
  },
  "language_info": {
   "codemirror_mode": {
    "name": "ipython",
    "version": 3
   },
   "file_extension": ".py",
   "mimetype": "text/x-python",
   "name": "python",
   "nbconvert_exporter": "python",
   "pygments_lexer": "ipython3",
   "version": "3.9.12"
  },
  "vscode": {
   "interpreter": {
    "hash": "aee8b7b246df8f9039afb4144a1f6fd8d2ca17a180786b69acc140d282b71a49"
   }
  }
 },
 "nbformat": 4,
 "nbformat_minor": 1
}
